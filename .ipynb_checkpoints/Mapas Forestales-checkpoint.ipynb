{
 "cells": [
  {
   "cell_type": "code",
   "execution_count": 2,
   "id": "1b27412f",
   "metadata": {},
   "outputs": [
    {
     "name": "stdout",
     "output_type": "stream",
     "text": [
      "Requirement already satisfied: eeconvert in c:\\users\\uriel\\anaconda3\\lib\\site-packages (0.1.22)Note: you may need to restart the kernel to use updated packages.\n",
      "\n",
      "Requirement already satisfied: boto3 in c:\\users\\uriel\\anaconda3\\lib\\site-packages (from eeconvert) (1.24.28)\n",
      "Requirement already satisfied: geopandas in c:\\users\\uriel\\anaconda3\\lib\\site-packages (from eeconvert) (0.12.2)\n",
      "Requirement already satisfied: folium in c:\\users\\uriel\\anaconda3\\lib\\site-packages (from eeconvert) (0.14.0)\n",
      "Requirement already satisfied: branca in c:\\users\\uriel\\anaconda3\\lib\\site-packages (from eeconvert) (0.6.0)\n",
      "Requirement already satisfied: pandas in c:\\users\\uriel\\anaconda3\\lib\\site-packages (from eeconvert) (1.4.4)\n",
      "Requirement already satisfied: sqlalchemy in c:\\users\\uriel\\anaconda3\\lib\\site-packages (from eeconvert) (1.4.39)\n",
      "Requirement already satisfied: geojson in c:\\users\\uriel\\anaconda3\\lib\\site-packages (from eeconvert) (3.0.0)\n",
      "Requirement already satisfied: botocore in c:\\users\\uriel\\anaconda3\\lib\\site-packages (from eeconvert) (1.27.28)\n",
      "Requirement already satisfied: shapely in c:\\users\\uriel\\anaconda3\\lib\\site-packages (from eeconvert) (2.0.0)\n",
      "Requirement already satisfied: earthengine-api in c:\\users\\uriel\\anaconda3\\lib\\site-packages (from eeconvert) (0.1.338)\n",
      "Requirement already satisfied: jmespath<2.0.0,>=0.7.1 in c:\\users\\uriel\\anaconda3\\lib\\site-packages (from boto3->eeconvert) (0.10.0)\n",
      "Requirement already satisfied: s3transfer<0.7.0,>=0.6.0 in c:\\users\\uriel\\anaconda3\\lib\\site-packages (from boto3->eeconvert) (0.6.0)\n",
      "Requirement already satisfied: urllib3<1.27,>=1.25.4 in c:\\users\\uriel\\anaconda3\\lib\\site-packages (from botocore->eeconvert) (1.26.11)\n",
      "Requirement already satisfied: python-dateutil<3.0.0,>=2.1 in c:\\users\\uriel\\anaconda3\\lib\\site-packages (from botocore->eeconvert) (2.8.2)\n",
      "Requirement already satisfied: jinja2 in c:\\users\\uriel\\anaconda3\\lib\\site-packages (from branca->eeconvert) (2.11.3)\n",
      "Requirement already satisfied: google-auth-httplib2>=0.0.3 in c:\\users\\uriel\\anaconda3\\lib\\site-packages (from earthengine-api->eeconvert) (0.1.0)\n",
      "Requirement already satisfied: requests in c:\\users\\uriel\\anaconda3\\lib\\site-packages (from earthengine-api->eeconvert) (2.28.1)\n",
      "Requirement already satisfied: httplib2<1dev,>=0.9.2 in c:\\users\\uriel\\anaconda3\\lib\\site-packages (from earthengine-api->eeconvert) (0.21.0)\n",
      "Requirement already satisfied: google-auth>=1.4.1 in c:\\users\\uriel\\anaconda3\\lib\\site-packages (from earthengine-api->eeconvert) (2.16.0)\n",
      "Requirement already satisfied: google-cloud-storage in c:\\users\\uriel\\anaconda3\\lib\\site-packages (from earthengine-api->eeconvert) (2.7.0)\n",
      "Requirement already satisfied: google-api-python-client>=1.12.1 in c:\\users\\uriel\\anaconda3\\lib\\site-packages (from earthengine-api->eeconvert) (2.74.0)\n",
      "Requirement already satisfied: numpy in c:\\users\\uriel\\anaconda3\\lib\\site-packages (from folium->eeconvert) (1.21.5)\n",
      "Requirement already satisfied: pyproj>=2.6.1.post1 in c:\\users\\uriel\\anaconda3\\lib\\site-packages (from geopandas->eeconvert) (3.4.1)\n",
      "Requirement already satisfied: packaging in c:\\users\\uriel\\anaconda3\\lib\\site-packages (from geopandas->eeconvert) (21.3)\n",
      "Requirement already satisfied: fiona>=1.8 in c:\\users\\uriel\\anaconda3\\lib\\site-packages (from geopandas->eeconvert) (1.8.22)\n",
      "Requirement already satisfied: pytz>=2020.1 in c:\\users\\uriel\\anaconda3\\lib\\site-packages (from pandas->eeconvert) (2022.1)\n",
      "Requirement already satisfied: greenlet!=0.4.17 in c:\\users\\uriel\\anaconda3\\lib\\site-packages (from sqlalchemy->eeconvert) (1.1.1)\n",
      "Requirement already satisfied: attrs>=17 in c:\\users\\uriel\\anaconda3\\lib\\site-packages (from fiona>=1.8->geopandas->eeconvert) (21.4.0)\n",
      "Requirement already satisfied: click-plugins>=1.0 in c:\\users\\uriel\\anaconda3\\lib\\site-packages (from fiona>=1.8->geopandas->eeconvert) (1.1.1)\n",
      "Requirement already satisfied: six>=1.7 in c:\\users\\uriel\\anaconda3\\lib\\site-packages (from fiona>=1.8->geopandas->eeconvert) (1.16.0)\n",
      "Requirement already satisfied: click>=4.0 in c:\\users\\uriel\\anaconda3\\lib\\site-packages (from fiona>=1.8->geopandas->eeconvert) (8.0.4)\n",
      "Requirement already satisfied: certifi in c:\\users\\uriel\\anaconda3\\lib\\site-packages (from fiona>=1.8->geopandas->eeconvert) (2022.9.14)\n",
      "Requirement already satisfied: setuptools in c:\\users\\uriel\\anaconda3\\lib\\site-packages (from fiona>=1.8->geopandas->eeconvert) (63.4.1)\n",
      "Requirement already satisfied: cligj>=0.5 in c:\\users\\uriel\\anaconda3\\lib\\site-packages (from fiona>=1.8->geopandas->eeconvert) (0.7.2)\n",
      "Requirement already satisfied: munch in c:\\users\\uriel\\anaconda3\\lib\\site-packages (from fiona>=1.8->geopandas->eeconvert) (2.5.0)\n",
      "Requirement already satisfied: google-api-core!=2.0.*,!=2.1.*,!=2.2.*,!=2.3.0,<3.0.0dev,>=1.31.5 in c:\\users\\uriel\\anaconda3\\lib\\site-packages (from google-api-python-client>=1.12.1->earthengine-api->eeconvert) (2.11.0)\n",
      "Requirement already satisfied: uritemplate<5,>=3.0.1 in c:\\users\\uriel\\anaconda3\\lib\\site-packages (from google-api-python-client>=1.12.1->earthengine-api->eeconvert) (4.1.1)\n",
      "Requirement already satisfied: rsa<5,>=3.1.4 in c:\\users\\uriel\\anaconda3\\lib\\site-packages (from google-auth>=1.4.1->earthengine-api->eeconvert) (4.9)\n",
      "Requirement already satisfied: cachetools<6.0,>=2.0.0 in c:\\users\\uriel\\anaconda3\\lib\\site-packages (from google-auth>=1.4.1->earthengine-api->eeconvert) (5.3.0)\n",
      "Requirement already satisfied: pyasn1-modules>=0.2.1 in c:\\users\\uriel\\anaconda3\\lib\\site-packages (from google-auth>=1.4.1->earthengine-api->eeconvert) (0.2.8)\n",
      "Requirement already satisfied: pyparsing!=3.0.0,!=3.0.1,!=3.0.2,!=3.0.3,<4,>=2.4.2 in c:\\users\\uriel\\anaconda3\\lib\\site-packages (from httplib2<1dev,>=0.9.2->earthengine-api->eeconvert) (3.0.9)\n",
      "Requirement already satisfied: MarkupSafe>=0.23 in c:\\users\\uriel\\anaconda3\\lib\\site-packages (from jinja2->branca->eeconvert) (2.0.1)\n",
      "Requirement already satisfied: google-resumable-media>=2.3.2 in c:\\users\\uriel\\anaconda3\\lib\\site-packages (from google-cloud-storage->earthengine-api->eeconvert) (2.4.1)\n",
      "Requirement already satisfied: google-cloud-core<3.0dev,>=2.3.0 in c:\\users\\uriel\\anaconda3\\lib\\site-packages (from google-cloud-storage->earthengine-api->eeconvert) (2.3.2)\n",
      "Requirement already satisfied: idna<4,>=2.5 in c:\\users\\uriel\\anaconda3\\lib\\site-packages (from requests->earthengine-api->eeconvert) (3.3)\n",
      "Requirement already satisfied: charset-normalizer<3,>=2 in c:\\users\\uriel\\anaconda3\\lib\\site-packages (from requests->earthengine-api->eeconvert) (2.0.4)\n",
      "Requirement already satisfied: colorama in c:\\users\\uriel\\anaconda3\\lib\\site-packages (from click>=4.0->fiona>=1.8->geopandas->eeconvert) (0.4.5)\n",
      "Requirement already satisfied: protobuf!=3.20.0,!=3.20.1,!=4.21.0,!=4.21.1,!=4.21.2,!=4.21.3,!=4.21.4,!=4.21.5,<5.0.0dev,>=3.19.5 in c:\\users\\uriel\\anaconda3\\lib\\site-packages (from google-api-core!=2.0.*,!=2.1.*,!=2.2.*,!=2.3.0,<3.0.0dev,>=1.31.5->google-api-python-client>=1.12.1->earthengine-api->eeconvert) (4.21.12)\n",
      "Requirement already satisfied: googleapis-common-protos<2.0dev,>=1.56.2 in c:\\users\\uriel\\anaconda3\\lib\\site-packages (from google-api-core!=2.0.*,!=2.1.*,!=2.2.*,!=2.3.0,<3.0.0dev,>=1.31.5->google-api-python-client>=1.12.1->earthengine-api->eeconvert) (1.58.0)\n",
      "Requirement already satisfied: google-crc32c<2.0dev,>=1.0 in c:\\users\\uriel\\anaconda3\\lib\\site-packages (from google-resumable-media>=2.3.2->google-cloud-storage->earthengine-api->eeconvert) (1.5.0)\n",
      "Requirement already satisfied: pyasn1<0.5.0,>=0.4.6 in c:\\users\\uriel\\anaconda3\\lib\\site-packages (from pyasn1-modules>=0.2.1->google-auth>=1.4.1->earthengine-api->eeconvert) (0.4.8)\n"
     ]
    }
   ],
   "source": [
    "pip install eeconvert"
   ]
  },
  {
   "cell_type": "code",
   "execution_count": 1,
   "id": "20a5a842",
   "metadata": {},
   "outputs": [],
   "source": [
    "import geopandas as gpd \n",
    "import descartes\n",
    "import matplotlib.pyplot as plt\n",
    "import csv\n",
    "import nasa_wildfires as fires\n",
    "import json\n",
    "import eeconvert"
   ]
  },
  {
   "cell_type": "code",
   "execution_count": 2,
   "id": "423028e4",
   "metadata": {},
   "outputs": [
    {
     "name": "stdout",
     "output_type": "stream",
     "text": [
      "[20.72306, 20.55776] [-103.63153, -103.4943]\n"
     ]
    }
   ],
   "source": [
    "# Download a regional GeoJSON of hotspots detected by the MODIS satellite in a recent 7-day period.\n",
    "data = fires.get_modis(region=\"central-america\", time_range=\"7d\")  \n",
    "\n",
    "lat = []\n",
    "lon = []\n",
    "#Detectar los incendios en el rango de 7 días dentro del rango de la primaveras\n",
    "for i in range(len(data[\"features\"])):\n",
    "    if data[\"features\"][i][\"geometry\"][\"coordinates\"][0] >= -103.6858 and data[\"features\"][i][\"geometry\"][\"coordinates\"][0] <= -103.4552 and data[\"features\"][i][\"geometry\"][\"coordinates\"][1] <= 20.7269 and data[\"features\"][i][\"geometry\"][\"coordinates\"][1] >= 20.5430:\n",
    "        lon.append(data[\"features\"][i][\"geometry\"][\"coordinates\"][0])\n",
    "        lat.append(data[\"features\"][i][\"geometry\"][\"coordinates\"][1])\n",
    "print(lat,lon)\n"
   ]
  },
  {
   "cell_type": "code",
   "execution_count": 3,
   "id": "09730660",
   "metadata": {},
   "outputs": [
    {
     "ename": "DriverError",
     "evalue": "C:\\Users\\uriel\\Desktop\\Incendios\\Primavera.shp: No such file or directory",
     "output_type": "error",
     "traceback": [
      "\u001b[1;31m---------------------------------------------------------------------------\u001b[0m",
      "\u001b[1;31mCPLE_OpenFailedError\u001b[0m                      Traceback (most recent call last)",
      "File \u001b[1;32mfiona\\_shim.pyx:83\u001b[0m, in \u001b[0;36mfiona._shim.gdal_open_vector\u001b[1;34m()\u001b[0m\n",
      "File \u001b[1;32mfiona\\_err.pyx:291\u001b[0m, in \u001b[0;36mfiona._err.exc_wrap_pointer\u001b[1;34m()\u001b[0m\n",
      "\u001b[1;31mCPLE_OpenFailedError\u001b[0m: C:\\Users\\uriel\\Desktop\\Incendios\\Primavera.shp: No such file or directory",
      "\nDuring handling of the above exception, another exception occurred:\n",
      "\u001b[1;31mDriverError\u001b[0m                               Traceback (most recent call last)",
      "Input \u001b[1;32mIn [3]\u001b[0m, in \u001b[0;36m<cell line: 1>\u001b[1;34m()\u001b[0m\n\u001b[1;32m----> 1\u001b[0m gdf \u001b[38;5;241m=\u001b[39m \u001b[43mgpd\u001b[49m\u001b[38;5;241;43m.\u001b[39;49m\u001b[43mread_file\u001b[49m\u001b[43m(\u001b[49m\u001b[38;5;124;43mr\u001b[39;49m\u001b[38;5;124;43m'\u001b[39;49m\u001b[38;5;124;43mC:\u001b[39;49m\u001b[38;5;124;43m\\\u001b[39;49m\u001b[38;5;124;43mUsers\u001b[39;49m\u001b[38;5;124;43m\\\u001b[39;49m\u001b[38;5;124;43muriel\u001b[39;49m\u001b[38;5;124;43m\\\u001b[39;49m\u001b[38;5;124;43mDesktop\u001b[39;49m\u001b[38;5;124;43m\\\u001b[39;49m\u001b[38;5;124;43mIncendios\u001b[39;49m\u001b[38;5;124;43m\\\u001b[39;49m\u001b[38;5;124;43mPrimavera.shp\u001b[39;49m\u001b[38;5;124;43m'\u001b[39;49m\u001b[43m)\u001b[49m\n\u001b[0;32m      2\u001b[0m fig, axes \u001b[38;5;241m=\u001b[39m plt\u001b[38;5;241m.\u001b[39msubplots(figsize\u001b[38;5;241m=\u001b[39m(\u001b[38;5;241m10\u001b[39m,\u001b[38;5;241m8\u001b[39m))\n\u001b[0;32m      3\u001b[0m gdf\u001b[38;5;241m.\u001b[39mplot(ax \u001b[38;5;241m=\u001b[39m axes, color \u001b[38;5;241m=\u001b[39m \u001b[38;5;124m\"\u001b[39m\u001b[38;5;124mwhite\u001b[39m\u001b[38;5;124m\"\u001b[39m, edgecolor \u001b[38;5;241m=\u001b[39m \u001b[38;5;124m\"\u001b[39m\u001b[38;5;124mblack\u001b[39m\u001b[38;5;124m\"\u001b[39m)\n",
      "File \u001b[1;32m~\\anaconda3\\lib\\site-packages\\geopandas\\io\\file.py:259\u001b[0m, in \u001b[0;36m_read_file\u001b[1;34m(filename, bbox, mask, rows, engine, **kwargs)\u001b[0m\n\u001b[0;32m    256\u001b[0m     path_or_bytes \u001b[38;5;241m=\u001b[39m filename\n\u001b[0;32m    258\u001b[0m \u001b[38;5;28;01mif\u001b[39;00m engine \u001b[38;5;241m==\u001b[39m \u001b[38;5;124m\"\u001b[39m\u001b[38;5;124mfiona\u001b[39m\u001b[38;5;124m\"\u001b[39m:\n\u001b[1;32m--> 259\u001b[0m     \u001b[38;5;28;01mreturn\u001b[39;00m _read_file_fiona(\n\u001b[0;32m    260\u001b[0m         path_or_bytes, from_bytes, bbox\u001b[38;5;241m=\u001b[39mbbox, mask\u001b[38;5;241m=\u001b[39mmask, rows\u001b[38;5;241m=\u001b[39mrows, \u001b[38;5;241m*\u001b[39m\u001b[38;5;241m*\u001b[39mkwargs\n\u001b[0;32m    261\u001b[0m     )\n\u001b[0;32m    262\u001b[0m \u001b[38;5;28;01melif\u001b[39;00m engine \u001b[38;5;241m==\u001b[39m \u001b[38;5;124m\"\u001b[39m\u001b[38;5;124mpyogrio\u001b[39m\u001b[38;5;124m\"\u001b[39m:\n\u001b[0;32m    263\u001b[0m     \u001b[38;5;28;01mreturn\u001b[39;00m _read_file_pyogrio(\n\u001b[0;32m    264\u001b[0m         path_or_bytes, bbox\u001b[38;5;241m=\u001b[39mbbox, mask\u001b[38;5;241m=\u001b[39mmask, rows\u001b[38;5;241m=\u001b[39mrows, \u001b[38;5;241m*\u001b[39m\u001b[38;5;241m*\u001b[39mkwargs\n\u001b[0;32m    265\u001b[0m     )\n",
      "File \u001b[1;32m~\\anaconda3\\lib\\site-packages\\geopandas\\io\\file.py:303\u001b[0m, in \u001b[0;36m_read_file_fiona\u001b[1;34m(path_or_bytes, from_bytes, bbox, mask, rows, where, **kwargs)\u001b[0m\n\u001b[0;32m    300\u001b[0m     reader \u001b[38;5;241m=\u001b[39m fiona\u001b[38;5;241m.\u001b[39mopen\n\u001b[0;32m    302\u001b[0m \u001b[38;5;28;01mwith\u001b[39;00m fiona_env():\n\u001b[1;32m--> 303\u001b[0m     \u001b[38;5;28;01mwith\u001b[39;00m reader(path_or_bytes, \u001b[38;5;241m*\u001b[39m\u001b[38;5;241m*\u001b[39mkwargs) \u001b[38;5;28;01mas\u001b[39;00m features:\n\u001b[0;32m    304\u001b[0m         crs \u001b[38;5;241m=\u001b[39m features\u001b[38;5;241m.\u001b[39mcrs_wkt\n\u001b[0;32m    305\u001b[0m         \u001b[38;5;66;03m# attempt to get EPSG code\u001b[39;00m\n",
      "File \u001b[1;32m~\\anaconda3\\lib\\site-packages\\fiona\\env.py:408\u001b[0m, in \u001b[0;36mensure_env_with_credentials.<locals>.wrapper\u001b[1;34m(*args, **kwargs)\u001b[0m\n\u001b[0;32m    405\u001b[0m \u001b[38;5;129m@wraps\u001b[39m(f)\n\u001b[0;32m    406\u001b[0m \u001b[38;5;28;01mdef\u001b[39;00m \u001b[38;5;21mwrapper\u001b[39m(\u001b[38;5;241m*\u001b[39margs, \u001b[38;5;241m*\u001b[39m\u001b[38;5;241m*\u001b[39mkwargs):\n\u001b[0;32m    407\u001b[0m     \u001b[38;5;28;01mif\u001b[39;00m local\u001b[38;5;241m.\u001b[39m_env:\n\u001b[1;32m--> 408\u001b[0m         \u001b[38;5;28;01mreturn\u001b[39;00m f(\u001b[38;5;241m*\u001b[39margs, \u001b[38;5;241m*\u001b[39m\u001b[38;5;241m*\u001b[39mkwargs)\n\u001b[0;32m    409\u001b[0m     \u001b[38;5;28;01melse\u001b[39;00m:\n\u001b[0;32m    410\u001b[0m         \u001b[38;5;28;01mif\u001b[39;00m \u001b[38;5;28misinstance\u001b[39m(args[\u001b[38;5;241m0\u001b[39m], \u001b[38;5;28mstr\u001b[39m):\n",
      "File \u001b[1;32m~\\anaconda3\\lib\\site-packages\\fiona\\__init__.py:286\u001b[0m, in \u001b[0;36mopen\u001b[1;34m(fp, mode, driver, schema, crs, encoding, layer, vfs, enabled_drivers, crs_wkt, **kwargs)\u001b[0m\n\u001b[0;32m    283\u001b[0m     path \u001b[38;5;241m=\u001b[39m parse_path(fp)\n\u001b[0;32m    285\u001b[0m \u001b[38;5;28;01mif\u001b[39;00m mode \u001b[38;5;129;01min\u001b[39;00m (\u001b[38;5;124m'\u001b[39m\u001b[38;5;124ma\u001b[39m\u001b[38;5;124m'\u001b[39m, \u001b[38;5;124m'\u001b[39m\u001b[38;5;124mr\u001b[39m\u001b[38;5;124m'\u001b[39m):\n\u001b[1;32m--> 286\u001b[0m     c \u001b[38;5;241m=\u001b[39m Collection(path, mode, driver\u001b[38;5;241m=\u001b[39mdriver, encoding\u001b[38;5;241m=\u001b[39mencoding,\n\u001b[0;32m    287\u001b[0m                    layer\u001b[38;5;241m=\u001b[39mlayer, enabled_drivers\u001b[38;5;241m=\u001b[39menabled_drivers, \u001b[38;5;241m*\u001b[39m\u001b[38;5;241m*\u001b[39mkwargs)\n\u001b[0;32m    288\u001b[0m \u001b[38;5;28;01melif\u001b[39;00m mode \u001b[38;5;241m==\u001b[39m \u001b[38;5;124m'\u001b[39m\u001b[38;5;124mw\u001b[39m\u001b[38;5;124m'\u001b[39m:\n\u001b[0;32m    289\u001b[0m     \u001b[38;5;28;01mif\u001b[39;00m schema:\n\u001b[0;32m    290\u001b[0m         \u001b[38;5;66;03m# Make an ordered dict of schema properties.\u001b[39;00m\n",
      "File \u001b[1;32m~\\anaconda3\\lib\\site-packages\\fiona\\collection.py:162\u001b[0m, in \u001b[0;36mCollection.__init__\u001b[1;34m(self, path, mode, driver, schema, crs, encoding, layer, vsi, archive, enabled_drivers, crs_wkt, ignore_fields, ignore_geometry, **kwargs)\u001b[0m\n\u001b[0;32m    160\u001b[0m \u001b[38;5;28;01mif\u001b[39;00m \u001b[38;5;28mself\u001b[39m\u001b[38;5;241m.\u001b[39mmode \u001b[38;5;241m==\u001b[39m \u001b[38;5;124m'\u001b[39m\u001b[38;5;124mr\u001b[39m\u001b[38;5;124m'\u001b[39m:\n\u001b[0;32m    161\u001b[0m     \u001b[38;5;28mself\u001b[39m\u001b[38;5;241m.\u001b[39msession \u001b[38;5;241m=\u001b[39m Session()\n\u001b[1;32m--> 162\u001b[0m     \u001b[38;5;28mself\u001b[39m\u001b[38;5;241m.\u001b[39msession\u001b[38;5;241m.\u001b[39mstart(\u001b[38;5;28mself\u001b[39m, \u001b[38;5;241m*\u001b[39m\u001b[38;5;241m*\u001b[39mkwargs)\n\u001b[0;32m    163\u001b[0m \u001b[38;5;28;01melif\u001b[39;00m \u001b[38;5;28mself\u001b[39m\u001b[38;5;241m.\u001b[39mmode \u001b[38;5;129;01min\u001b[39;00m (\u001b[38;5;124m'\u001b[39m\u001b[38;5;124ma\u001b[39m\u001b[38;5;124m'\u001b[39m, \u001b[38;5;124m'\u001b[39m\u001b[38;5;124mw\u001b[39m\u001b[38;5;124m'\u001b[39m):\n\u001b[0;32m    164\u001b[0m     \u001b[38;5;28mself\u001b[39m\u001b[38;5;241m.\u001b[39msession \u001b[38;5;241m=\u001b[39m WritingSession()\n",
      "File \u001b[1;32mfiona\\ogrext.pyx:540\u001b[0m, in \u001b[0;36mfiona.ogrext.Session.start\u001b[1;34m()\u001b[0m\n",
      "File \u001b[1;32mfiona\\_shim.pyx:90\u001b[0m, in \u001b[0;36mfiona._shim.gdal_open_vector\u001b[1;34m()\u001b[0m\n",
      "\u001b[1;31mDriverError\u001b[0m: C:\\Users\\uriel\\Desktop\\Incendios\\Primavera.shp: No such file or directory"
     ]
    }
   ],
   "source": [
    "gdf = gpd.read_file(r'C:\\Users\\uriel\\Desktop\\Incendios\\Primavera.shp')\n",
    "fig, axes = plt.subplots(figsize=(10,8))\n",
    "gdf.plot(ax = axes, color = \"white\", edgecolor = \"black\")\n",
    "axes.scatter(lon, lat)\n",
    "plt.show()"
   ]
  },
  {
   "cell_type": "code",
   "execution_count": 5,
   "id": "d6c5361a",
   "metadata": {},
   "outputs": [],
   "source": [
    "#pip install earthengine-api --upgrade"
   ]
  },
  {
   "cell_type": "code",
   "execution_count": 12,
   "id": "5ca95b8a",
   "metadata": {},
   "outputs": [
    {
     "data": {
      "text/html": [
       "<p>To authorize access needed by Earth Engine, open the following\n",
       "        URL in a web browser and follow the instructions:</p>\n",
       "        <p><a href=https://code.earthengine.google.com/client-auth?scopes=https%3A//www.googleapis.com/auth/earthengine%20https%3A//www.googleapis.com/auth/devstorage.full_control&request_id=U_DogE5zzdZLQuhhNhhkv3W2aO-OrwtO3zWhwnvPtlo&tc=c1S9Wht_Bf6JSl3-ouvzyjVBBjIfFgi9jlzusCLBUPE&cc=79nZRyNKxnq3AaH66S9MYf0HjMurcV0eRjkrOJAAlvg>https://code.earthengine.google.com/client-auth?scopes=https%3A//www.googleapis.com/auth/earthengine%20https%3A//www.googleapis.com/auth/devstorage.full_control&request_id=U_DogE5zzdZLQuhhNhhkv3W2aO-OrwtO3zWhwnvPtlo&tc=c1S9Wht_Bf6JSl3-ouvzyjVBBjIfFgi9jlzusCLBUPE&cc=79nZRyNKxnq3AaH66S9MYf0HjMurcV0eRjkrOJAAlvg</a></p>\n",
       "        <p>The authorization workflow will generate a code, which you should paste in the box below.</p>\n",
       "        "
      ],
      "text/plain": [
       "<IPython.core.display.HTML object>"
      ]
     },
     "metadata": {},
     "output_type": "display_data"
    },
    {
     "name": "stdout",
     "output_type": "stream",
     "text": [
      "Enter verification code: 4/1AWtgzh4EaCKMumee5qadPZOZjZVGza-6eJYR3BlVWiQ8SC7f5uhzbNsHUb8\n",
      "\n",
      "Successfully saved authorization token.\n"
     ]
    }
   ],
   "source": [
    "import ee\n",
    "ee.Authenticate()"
   ]
  },
  {
   "cell_type": "code",
   "execution_count": 13,
   "id": "0cf50f6d",
   "metadata": {},
   "outputs": [],
   "source": [
    "ee.Initialize()"
   ]
  },
  {
   "cell_type": "code",
   "execution_count": 6,
   "id": "150cbecb",
   "metadata": {},
   "outputs": [
    {
     "name": "stdout",
     "output_type": "stream",
     "text": [
      "NASADEM: NASA NASADEM Digital Elevation 30m\n"
     ]
    }
   ],
   "source": [
    "print(ee.Image(\"NASA/NASADEM_HGT/001\").get(\"title\").getInfo())"
   ]
  },
  {
   "cell_type": "code",
   "execution_count": 7,
   "id": "ed9cdcfe",
   "metadata": {},
   "outputs": [],
   "source": [
    "pa = ee.FeatureCollection(\"WCMC/WDPA/current/polygons\")"
   ]
  },
  {
   "cell_type": "code",
   "execution_count": 8,
   "id": "c9ac07db",
   "metadata": {},
   "outputs": [
    {
     "name": "stdout",
     "output_type": "stream",
     "text": [
      "ee.FeatureCollection({\n",
      "  \"functionInvocationValue\": {\n",
      "    \"functionName\": \"Collection.loadTable\",\n",
      "    \"arguments\": {\n",
      "      \"tableId\": {\n",
      "        \"constantValue\": \"WCMC/WDPA/current/polygons\"\n",
      "      }\n",
      "    }\n",
      "  }\n",
      "})\n"
     ]
    }
   ],
   "source": [
    "print(pa)"
   ]
  },
  {
   "cell_type": "code",
   "execution_count": 9,
   "id": "6e62d24a",
   "metadata": {
    "scrolled": true
   },
   "outputs": [
    {
     "name": "stderr",
     "output_type": "stream",
     "text": [
      "C:\\Users\\uriel\\anaconda3\\lib\\site-packages\\pyproj\\crs\\crs.py:141: FutureWarning: '+init=<authority>:<code>' syntax is deprecated. '<authority>:<code>' is the preferred initialization method. When making the change, be mindful of axis order changes: https://pyproj4.github.io/pyproj/stable/gotchas.html#axis-order-changes-in-proj-6\n",
      "  in_crs_string = _prepare_from_proj_string(in_crs_string)\n"
     ]
    }
   ],
   "source": [
    "# lA Primavera polygon\n",
    "import eeconvert\n",
    "filter = ee.Filter.inList('NAME', ['La Primavera'])\n",
    "primavera = pa.filter(filter)\n",
    "# transform La Primavera fc into gdf\n",
    "primaveraGDF = eeconvert.fcToGdf(primavera)\n",
    "# convert gdf into shp\n",
    "primaveraGDF.to_file(r\"C:\\Users\\uriel\\Desktop\\Incendios\\LaPrimavera.shp\")"
   ]
  },
  {
   "cell_type": "code",
   "execution_count": 10,
   "id": "5b809435",
   "metadata": {},
   "outputs": [
    {
     "name": "stderr",
     "output_type": "stream",
     "text": [
      "C:\\Users\\uriel\\anaconda3\\lib\\site-packages\\pyproj\\crs\\crs.py:141: FutureWarning: '+init=<authority>:<code>' syntax is deprecated. '<authority>:<code>' is the preferred initialization method. When making the change, be mindful of axis order changes: https://pyproj4.github.io/pyproj/stable/gotchas.html#axis-order-changes-in-proj-6\n",
      "  in_crs_string = _prepare_from_proj_string(in_crs_string)\n"
     ]
    }
   ],
   "source": [
    "# load GRIDMET ImageCollection FOR FUEL MOISTURE\n",
    "gridmet = ee.ImageCollection('IDAHO_EPSCOR/GRIDMET').filter(ee.Filter.date('2020-06-20', '2020-09-22'));\n",
    "# create a rectangle\n",
    "coords = [-103.6858,20.5430,-103.4552,20.7269]\n",
    "bbox = ee.Geometry.Rectangle(coords)\n",
    "# select 100-hour dead fuel moisture (fm100) and calculate the mode\n",
    "fm100 = gridmet.select('fm100').mode()\n",
    "# clip data to rectangle\n",
    "fm100_clip =fm100.clip(bbox)\n",
    "# create 2000 random points\n",
    "fm100_points = ee.FeatureCollection.randomPoints(bbox, 2000);\n",
    "# sample points using the mean\n",
    "samplefm100 = fm100_clip.reduceRegions(**{\n",
    "  'collection':fm100_points,\n",
    "  'reducer':ee.Reducer.mean(), \n",
    "  'scale': 4000, \n",
    "  });\n",
    "# transform fc into gdf\n",
    "samplefm100GDF = eeconvert.fcToGdf(samplefm100)\n",
    "# convert gdf into shp\n",
    "samplefm100GDF.to_file(r\"C:\\Users\\uriel\\Desktop\\Incendios\\samplefm100.shp\")"
   ]
  },
  {
   "cell_type": "code",
   "execution_count": 13,
   "id": "d81d0f8a",
   "metadata": {},
   "outputs": [
    {
     "name": "stderr",
     "output_type": "stream",
     "text": [
      "C:\\Users\\uriel\\anaconda3\\lib\\site-packages\\pyproj\\crs\\crs.py:141: FutureWarning: '+init=<authority>:<code>' syntax is deprecated. '<authority>:<code>' is the preferred initialization method. When making the change, be mindful of axis order changes: https://pyproj4.github.io/pyproj/stable/gotchas.html#axis-order-changes-in-proj-6\n",
      "  in_crs_string = _prepare_from_proj_string(in_crs_string)\n"
     ]
    }
   ],
   "source": [
    "# select Wind velocity at 10m and calculate the mode\n",
    "vs = gridmet.select('vs').mode()\n",
    "# clip data to rectangle\n",
    "vs_clip = vs.clip(bbox)\n",
    "# create 2000 random points\n",
    "vs_points = ee.FeatureCollection.randomPoints(bbox, 2000);\n",
    "# sample points using the mean\n",
    "samplevs100 = vs_clip.reduceRegions(**{\n",
    "  'collection':vs_points,\n",
    "  'reducer':ee.Reducer.mean(), \n",
    "  'scale': 4000, \n",
    "  });\n",
    "# transform fc into gdf\n",
    "samplevsGDF = eeconvert.fcToGdf(samplevs100)\n",
    "# convert gdf into shp\n",
    "samplevsGDF.to_file(r\"C:\\Users\\uriel\\Desktop\\Incendios\\samplevs.shp\")"
   ]
  },
  {
   "cell_type": "code",
   "execution_count": 14,
   "id": "43ad8acc",
   "metadata": {},
   "outputs": [
    {
     "name": "stderr",
     "output_type": "stream",
     "text": [
      "C:\\Users\\uriel\\anaconda3\\lib\\site-packages\\pyproj\\crs\\crs.py:141: FutureWarning: '+init=<authority>:<code>' syntax is deprecated. '<authority>:<code>' is the preferred initialization method. When making the change, be mindful of axis order changes: https://pyproj4.github.io/pyproj/stable/gotchas.html#axis-order-changes-in-proj-6\n",
      "  in_crs_string = _prepare_from_proj_string(in_crs_string)\n"
     ]
    }
   ],
   "source": [
    "# select Wind direction and calculate the mode\n",
    "wd = gridmet.select('th').mode()\n",
    "# clip data to rectangle\n",
    "wd_clip = wd.clip(bbox)\n",
    "# create 2000 random points\n",
    "wd_points = ee.FeatureCollection.randomPoints(bbox, 2000);\n",
    "# sample points using the mean\n",
    "samplewd = wd_clip.reduceRegions(**{\n",
    "  'collection':wd_points,\n",
    "  'reducer':ee.Reducer.mean(), \n",
    "  'scale': 4000, \n",
    "  });\n",
    "# transform fc into gdf\n",
    "samplewdGDF = eeconvert.fcToGdf(samplewd)\n",
    "# convert gdf into shp\n",
    "samplewdGDF.to_file(r\"C:\\Users\\uriel\\Desktop\\Incendios\\samplewd.shp\")"
   ]
  },
  {
   "cell_type": "code",
   "execution_count": 11,
   "id": "44a2834c",
   "metadata": {},
   "outputs": [],
   "source": [
    "\n",
    "# Definition of a region of interest with a rectangle\n",
    "l_left = [-103.6858, 20.5430] # lower left corner of the rectangle\n",
    "t_right = [-103.4552, 20.7269] # toper right corner of the rectangle\n",
    " \n",
    "roi = ee.Geometry.Rectangle([l_left, t_right]) # region of interest"
   ]
  },
  {
   "cell_type": "code",
   "execution_count": 12,
   "id": "8a56eb85",
   "metadata": {},
   "outputs": [],
   "source": [
    "# import a land cover Collection\n",
    "LC = ee.ImageCollection('MODIS/006/MCD12Q1')\n",
    " \n",
    "# import a land surface temperature Collection\n",
    "LST = ee.ImageCollection('MODIS/006/MOD11A1')\n",
    "# import a ground elevation Image\n",
    "ELV = ee.Image('USGS/SRTMGL1_003')"
   ]
  },
  {
   "cell_type": "code",
   "execution_count": 13,
   "id": "69a7cd93",
   "metadata": {},
   "outputs": [],
   "source": [
    "# ImageCollection to Image using the mean() method:\n",
    "LST_im = LST.mean()\n",
    " \n",
    "# Operation to take into account the scale factor:\n",
    "LST_im = LST_im.select('LST_Day_1km').multiply(0.02)\n",
    " \n",
    "# Kelvin -&amp;amp;amp;amp;amp;amp;gt; Celsius\n",
    "LST_im = LST_im.select('LST_Day_1km').add(-273.15)"
   ]
  },
  {
   "cell_type": "code",
   "execution_count": 14,
   "id": "d8bd5a42",
   "metadata": {},
   "outputs": [
    {
     "name": "stdout",
     "output_type": "stream",
     "text": [
      "https://earthengine.googleapis.com/v1alpha/projects/earthengine-legacy/thumbnails/b3719d614ee84f0420101a3317b64fe3-c5b3e7f1f80bdb8a6cc5faf264c3d839:getPixels\n"
     ]
    },
    {
     "data": {
      "text/html": [
       "<img src=\"https://earthengine.googleapis.com/v1alpha/projects/earthengine-legacy/thumbnails/b3719d614ee84f0420101a3317b64fe3-c5b3e7f1f80bdb8a6cc5faf264c3d839:getPixels\"/>"
      ],
      "text/plain": [
       "<IPython.core.display.Image object>"
      ]
     },
     "execution_count": 14,
     "metadata": {},
     "output_type": "execute_result"
    }
   ],
   "source": [
    "from IPython.display import Image\n",
    " \n",
    "# Create the url associated to the Image you want\n",
    "url = LST_im.getThumbUrl({'min': 10, 'max': 30, 'dimensions': 512,\n",
    "                          'region' : roi,\n",
    "                          'palette': ['blue', 'yellow', 'orange', 'red']})\n",
    "print(url)\n",
    " \n",
    "# Display a thumbnail Land Surface Temperature in France\n",
    "Image(url = url)"
   ]
  },
  {
   "cell_type": "code",
   "execution_count": 15,
   "id": "3afd3b65",
   "metadata": {},
   "outputs": [
    {
     "data": {
      "text/html": [
       "<img src=\"https://earthengine.googleapis.com/v1alpha/projects/earthengine-legacy/thumbnails/cead5b32119faef7c2d5bdddc8e41fff-693d145444f12ca04b0f8870d743279e:getPixels\"/>"
      ],
      "text/plain": [
       "<IPython.core.display.Image object>"
      ]
     },
     "execution_count": 15,
     "metadata": {},
     "output_type": "execute_result"
    }
   ],
   "source": [
    "# We create a filter and apply a mask to get hide oceans and seas\n",
    "url2 = ELV.updateMask(ELV.gt(0)).getThumbUrl({'min': 0, 'max': 2500, 'region' : roi,\n",
    "                                              'dimensions': 512,\n",
    "                                              'palette': ['006633', 'E5FFCC', '662A00', 'D8D8D8', 'F5F5F5']})\n",
    "Image(url = url2)"
   ]
  },
  {
   "cell_type": "code",
   "execution_count": 16,
   "id": "1249ffb4",
   "metadata": {},
   "outputs": [
    {
     "data": {
      "text/html": [
       "<img src=\"https://earthengine.googleapis.com/v1alpha/projects/earthengine-legacy/thumbnails/fa847326617b448bfb9c1850f23170fa-528a9e1affad4333a7f36e20ac3bb235:getPixels\"/>"
      ],
      "text/plain": [
       "<IPython.core.display.Image object>"
      ]
     },
     "execution_count": 16,
     "metadata": {},
     "output_type": "execute_result"
    }
   ],
   "source": [
    "# We clip the image on France\n",
    "ELV_fr = ELV.updateMask(ELV.gt(0)).clip(primavera)\n",
    " \n",
    "# Create the url associated to the Image you want\n",
    "url4 = ELV_fr.getThumbUrl({'min': 0, 'max': 2500, 'region' : roi,\n",
    "                                              'dimensions': 512,\n",
    "                                              'palette': ['006633', 'E5FFCC', '662A00', 'D8D8D8', 'F5F5F5']})\n",
    "# Display a thumbnail of elevation in France.\n",
    "Image(url = url4)"
   ]
  },
  {
   "cell_type": "code",
   "execution_count": 8,
   "id": "cdc15cb0",
   "metadata": {},
   "outputs": [
    {
     "name": "stdout",
     "output_type": "stream",
     "text": [
      "Collecting vega_datasets\n",
      "  Downloading vega_datasets-0.9.0-py3-none-any.whl (210 kB)\n",
      "Requirement already satisfied: pandas in c:\\users\\chiva\\anaconda3\\lib\\site-packages (from vega_datasets) (1.4.2)\n",
      "Requirement already satisfied: python-dateutil>=2.8.1 in c:\\users\\chiva\\anaconda3\\lib\\site-packages (from pandas->vega_datasets) (2.8.2)\n",
      "Requirement already satisfied: pytz>=2020.1 in c:\\users\\chiva\\anaconda3\\lib\\site-packages (from pandas->vega_datasets) (2021.3)\n",
      "Requirement already satisfied: numpy>=1.18.5 in c:\\users\\chiva\\anaconda3\\lib\\site-packages (from pandas->vega_datasets) (1.21.5)\n",
      "Requirement already satisfied: six>=1.5 in c:\\users\\chiva\\anaconda3\\lib\\site-packages (from python-dateutil>=2.8.1->pandas->vega_datasets) (1.16.0)\n",
      "Installing collected packages: vega-datasets\n",
      "Successfully installed vega-datasets-0.9.0\n",
      "Note: you may need to restart the kernel to use updated packages.\n"
     ]
    }
   ],
   "source": [
    "pip install vega_datasets"
   ]
  },
  {
   "cell_type": "code",
   "execution_count": 4,
   "id": "88e4b1e4",
   "metadata": {
    "scrolled": false
   },
   "outputs": [
    {
     "ename": "NameError",
     "evalue": "name 'ee' is not defined",
     "output_type": "error",
     "traceback": [
      "\u001b[1;31m---------------------------------------------------------------------------\u001b[0m",
      "\u001b[1;31mNameError\u001b[0m                                 Traceback (most recent call last)",
      "Input \u001b[1;32mIn [4]\u001b[0m, in \u001b[0;36m<cell line: 8>\u001b[1;34m()\u001b[0m\n\u001b[0;32m      6\u001b[0m \u001b[38;5;28;01mimport\u001b[39;00m \u001b[38;5;21;01mrequests\u001b[39;00m\n\u001b[0;32m      7\u001b[0m \u001b[38;5;28;01mfrom\u001b[39;00m \u001b[38;5;21;01mvega_datasets\u001b[39;00m \u001b[38;5;28;01mimport\u001b[39;00m data \u001b[38;5;28;01mas\u001b[39;00m vds\n\u001b[1;32m----> 8\u001b[0m dataset \u001b[38;5;241m=\u001b[39m \u001b[43mee\u001b[49m\u001b[38;5;241m.\u001b[39mImage(\u001b[38;5;124m'\u001b[39m\u001b[38;5;124mUSGS/SRTMGL1_003\u001b[39m\u001b[38;5;124m'\u001b[39m);\n\u001b[0;32m      9\u001b[0m elevation \u001b[38;5;241m=\u001b[39m dataset\u001b[38;5;241m.\u001b[39mselect(\u001b[38;5;124m'\u001b[39m\u001b[38;5;124melevation\u001b[39m\u001b[38;5;124m'\u001b[39m);\n\u001b[0;32m     10\u001b[0m slope \u001b[38;5;241m=\u001b[39m ee\u001b[38;5;241m.\u001b[39mTerrain\u001b[38;5;241m.\u001b[39mslope(elevation);\n",
      "\u001b[1;31mNameError\u001b[0m: name 'ee' is not defined"
     ]
    }
   ],
   "source": [
    "import folium\n",
    "from folium import plugins\n",
    "import ipywidgets\n",
    "import geocoder\n",
    "import geopy\n",
    "import requests\n",
    "from vega_datasets import data as vds\n",
    "dataset = ee.Image('USGS/SRTMGL1_003');\n",
    "elevation = dataset.select('elevation');\n",
    "slope = ee.Terrain.slope(elevation);\n",
    "#####\n",
    "def kelvin_to_celsius(kelvin):\n",
    "    celsius = kelvin - 273.15\n",
    "    return celsius\n",
    "#######\n",
    "res= requests.get(\"https://api.openweathermap.org/data/2.5/weather?lat=20.64109&lon=-103.55948&appid=88ea1e1a48e480178b9c4ab177c2475f\")\n",
    "data = res.json()\n",
    "temp = data[\"main\"][\"temp\"]\n",
    "humidity = data[\"main\"][\"humidity\"]\n",
    "velocidad = data[\"wind\"][\"speed\"]\n",
    "direccion = data[\"wind\"][\"deg\"]\n",
    "\n",
    "print(\"Temperatura: \", kelvin_to_celsius(temp),\"°C\")\n",
    "print(\"Humedad: \",humidity,\"%\")\n",
    "print(\"Velocidad del viento:\",velocidad,\"m/s\")\n",
    "print(\"Direccion del viento:\",direccion,\"°\")\n",
    "h = str(humidity)\n",
    "t = str(round(kelvin_to_celsius(temp),3))\n",
    "v = str(velocidad)\n",
    "d = str(direccion)\n",
    "######\n",
    "\n",
    "Map = folium.Map(location=[20.64109,-103.5594],zoom_start=11,width=500,height = 400)\n",
    "folium.Marker(location=[20.64109,-103.5594],popup=\"Humedad: \" + h+\"%\"+\"\\nTemperatura: \"+ t+\"°C\"\n",
    "              + \"\\nViento: \"+ v + \"m/s\"+ \"\\nDireccion: \" + d + \"°\",icon=folium.Icon(icon='fire',icon_color='red')).add_to(Map)\n",
    "Map\n"
   ]
  },
  {
   "cell_type": "code",
   "execution_count": 11,
   "id": "b34a5bcf",
   "metadata": {},
   "outputs": [
    {
     "name": "stdout",
     "output_type": "stream",
     "text": [
      "Velocidad del viento: 2.02 m/s\n",
      "Carga de combustible: 10 kg/m²\n",
      "Pendiente: 5 grados\n",
      "Humedad: 35%\n",
      "Temperatura:  19.72 °C\n",
      "Direccion del viento: 242 °\n"
     ]
    }
   ],
   "source": [
    "import requests\n",
    "\n",
    "# Definir la URL de la API de OpenWeatherMap y los parámetros de consulta\n",
    "url = \"https://api.openweathermap.org/data/2.5/weather\"\n",
    "params = {\n",
    "    \"lat\": 20.64109, # Latitud\n",
    "    \"lon\": -103.5594, # Longitud\n",
    "    \"appid\": \"88ea1e1a48e480178b9c4ab177c2475f\", # Tu ID de API de OpenWeatherMap\n",
    "    \"units\": \"metric\" # Unidades métricas (para obtener la velocidad del viento en m/s)\n",
    "}\n",
    "\n",
    "# Hacer una solicitud HTTP a la API y obtener la respuesta JSON\n",
    "response = requests.get(url, params=params)\n",
    "data = response.json()\n",
    "\n",
    "# Extraer la velocidad del viento, la carga de combustible, la pendiente y la humedad del combustible de la respuesta JSON\n",
    "velocidad_viento = data[\"wind\"][\"speed\"]\n",
    "temp = data[\"main\"][\"temp\"]\n",
    "direccion = data[\"wind\"][\"deg\"]\n",
    "carga_combustible = 10 # Ejemplo de carga de combustible estática (para fines ilustrativos solamente)\n",
    "pendiente = 5 # Ejemplo de pendiente estática (para fines ilustrativos solamente)\n",
    "humedad_combustible = data[\"main\"][\"humidity\"]\n",
    "\n",
    "# Imprimir los resultados\n",
    "print(f\"Velocidad del viento: {velocidad_viento} m/s\")\n",
    "print(f\"Carga de combustible: {carga_combustible} kg/m²\")\n",
    "print(f\"Pendiente: {pendiente} grados\")\n",
    "print(f\"Humedad: {humedad_combustible}%\")\n",
    "print(\"Temperatura: \", temp,\"°C\")\n",
    "print(\"Direccion del viento:\",direccion,\"°\")"
   ]
  },
  {
   "cell_type": "code",
   "execution_count": 13,
   "id": "eacb7c25",
   "metadata": {},
   "outputs": [
    {
     "name": "stdout",
     "output_type": "stream",
     "text": [
      "Altitud: 1015 m\n",
      "Presión atmosférica: 1015 hPa\n",
      "Pendiente: 0.102 grados\n"
     ]
    }
   ],
   "source": [
    "import requests\n",
    "\n",
    "# Definir la URL de la API de OpenWeatherMap y los parámetros de consulta\n",
    "url = \"https://api.openweathermap.org/data/2.5/weather\"\n",
    "params = {\n",
    "    \"lat\": 20.64109, # Latitud\n",
    "    \"lon\": -103.5594, # Longitud\n",
    "    \"appid\": \"88ea1e1a48e480178b9c4ab177c2475f\", # Tu ID de API de OpenWeatherMap\n",
    "    \"units\": \"metric\" # Unidades métricas\n",
    "}\n",
    "\n",
    "# Hacer una solicitud HTTP a la API y obtener la respuesta JSON\n",
    "response = requests.get(url, params=params)\n",
    "data = response.json()\n",
    "\n",
    "# Extraer la altitud y la presión atmosférica de la respuesta JSON\n",
    "altitud = data[\"main\"][\"sea_level\"] # En metros\n",
    "presion_atmosferica = data[\"main\"][\"pressure\"] # En hPa\n",
    "\n",
    "# Calcular la pendiente\n",
    "pendiente = 0.102 * altitud / presion_atmosferica # En grados\n",
    "\n",
    "# Imprimir los resultados\n",
    "print(f\"Altitud: {altitud} m\")\n",
    "print(f\"Presión atmosférica: {presion_atmosferica} hPa\")\n",
    "print(f\"Pendiente: {pendiente} grados\")"
   ]
  },
  {
   "cell_type": "code",
   "execution_count": null,
   "id": "95f11405",
   "metadata": {},
   "outputs": [],
   "source": []
  }
 ],
 "metadata": {
  "kernelspec": {
   "display_name": "Python 3 (ipykernel)",
   "language": "python",
   "name": "python3"
  },
  "language_info": {
   "codemirror_mode": {
    "name": "ipython",
    "version": 3
   },
   "file_extension": ".py",
   "mimetype": "text/x-python",
   "name": "python",
   "nbconvert_exporter": "python",
   "pygments_lexer": "ipython3",
   "version": "3.9.12"
  }
 },
 "nbformat": 4,
 "nbformat_minor": 5
}
