{
 "cells": [
  {
   "cell_type": "code",
   "execution_count": 2,
   "id": "1b27412f",
   "metadata": {},
   "outputs": [
    {
     "name": "stdout",
     "output_type": "stream",
     "text": [
      "Requirement already satisfied: eeconvert in c:\\users\\uriel\\anaconda3\\lib\\site-packages (0.1.22)Note: you may need to restart the kernel to use updated packages.\n",
      "\n",
      "Requirement already satisfied: boto3 in c:\\users\\uriel\\anaconda3\\lib\\site-packages (from eeconvert) (1.24.28)\n",
      "Requirement already satisfied: geopandas in c:\\users\\uriel\\anaconda3\\lib\\site-packages (from eeconvert) (0.12.2)\n",
      "Requirement already satisfied: folium in c:\\users\\uriel\\anaconda3\\lib\\site-packages (from eeconvert) (0.14.0)\n",
      "Requirement already satisfied: branca in c:\\users\\uriel\\anaconda3\\lib\\site-packages (from eeconvert) (0.6.0)\n",
      "Requirement already satisfied: pandas in c:\\users\\uriel\\anaconda3\\lib\\site-packages (from eeconvert) (1.4.4)\n",
      "Requirement already satisfied: sqlalchemy in c:\\users\\uriel\\anaconda3\\lib\\site-packages (from eeconvert) (1.4.39)\n",
      "Requirement already satisfied: geojson in c:\\users\\uriel\\anaconda3\\lib\\site-packages (from eeconvert) (3.0.0)\n",
      "Requirement already satisfied: botocore in c:\\users\\uriel\\anaconda3\\lib\\site-packages (from eeconvert) (1.27.28)\n",
      "Requirement already satisfied: shapely in c:\\users\\uriel\\anaconda3\\lib\\site-packages (from eeconvert) (2.0.0)\n",
      "Requirement already satisfied: earthengine-api in c:\\users\\uriel\\anaconda3\\lib\\site-packages (from eeconvert) (0.1.338)\n",
      "Requirement already satisfied: jmespath<2.0.0,>=0.7.1 in c:\\users\\uriel\\anaconda3\\lib\\site-packages (from boto3->eeconvert) (0.10.0)\n",
      "Requirement already satisfied: s3transfer<0.7.0,>=0.6.0 in c:\\users\\uriel\\anaconda3\\lib\\site-packages (from boto3->eeconvert) (0.6.0)\n",
      "Requirement already satisfied: urllib3<1.27,>=1.25.4 in c:\\users\\uriel\\anaconda3\\lib\\site-packages (from botocore->eeconvert) (1.26.11)\n",
      "Requirement already satisfied: python-dateutil<3.0.0,>=2.1 in c:\\users\\uriel\\anaconda3\\lib\\site-packages (from botocore->eeconvert) (2.8.2)\n",
      "Requirement already satisfied: jinja2 in c:\\users\\uriel\\anaconda3\\lib\\site-packages (from branca->eeconvert) (2.11.3)\n",
      "Requirement already satisfied: google-auth-httplib2>=0.0.3 in c:\\users\\uriel\\anaconda3\\lib\\site-packages (from earthengine-api->eeconvert) (0.1.0)\n",
      "Requirement already satisfied: requests in c:\\users\\uriel\\anaconda3\\lib\\site-packages (from earthengine-api->eeconvert) (2.28.1)\n",
      "Requirement already satisfied: httplib2<1dev,>=0.9.2 in c:\\users\\uriel\\anaconda3\\lib\\site-packages (from earthengine-api->eeconvert) (0.21.0)\n",
      "Requirement already satisfied: google-auth>=1.4.1 in c:\\users\\uriel\\anaconda3\\lib\\site-packages (from earthengine-api->eeconvert) (2.16.0)\n",
      "Requirement already satisfied: google-cloud-storage in c:\\users\\uriel\\anaconda3\\lib\\site-packages (from earthengine-api->eeconvert) (2.7.0)\n",
      "Requirement already satisfied: google-api-python-client>=1.12.1 in c:\\users\\uriel\\anaconda3\\lib\\site-packages (from earthengine-api->eeconvert) (2.74.0)\n",
      "Requirement already satisfied: numpy in c:\\users\\uriel\\anaconda3\\lib\\site-packages (from folium->eeconvert) (1.21.5)\n",
      "Requirement already satisfied: pyproj>=2.6.1.post1 in c:\\users\\uriel\\anaconda3\\lib\\site-packages (from geopandas->eeconvert) (3.4.1)\n",
      "Requirement already satisfied: packaging in c:\\users\\uriel\\anaconda3\\lib\\site-packages (from geopandas->eeconvert) (21.3)\n",
      "Requirement already satisfied: fiona>=1.8 in c:\\users\\uriel\\anaconda3\\lib\\site-packages (from geopandas->eeconvert) (1.8.22)\n",
      "Requirement already satisfied: pytz>=2020.1 in c:\\users\\uriel\\anaconda3\\lib\\site-packages (from pandas->eeconvert) (2022.1)\n",
      "Requirement already satisfied: greenlet!=0.4.17 in c:\\users\\uriel\\anaconda3\\lib\\site-packages (from sqlalchemy->eeconvert) (1.1.1)\n",
      "Requirement already satisfied: attrs>=17 in c:\\users\\uriel\\anaconda3\\lib\\site-packages (from fiona>=1.8->geopandas->eeconvert) (21.4.0)\n",
      "Requirement already satisfied: click-plugins>=1.0 in c:\\users\\uriel\\anaconda3\\lib\\site-packages (from fiona>=1.8->geopandas->eeconvert) (1.1.1)\n",
      "Requirement already satisfied: six>=1.7 in c:\\users\\uriel\\anaconda3\\lib\\site-packages (from fiona>=1.8->geopandas->eeconvert) (1.16.0)\n",
      "Requirement already satisfied: click>=4.0 in c:\\users\\uriel\\anaconda3\\lib\\site-packages (from fiona>=1.8->geopandas->eeconvert) (8.0.4)\n",
      "Requirement already satisfied: certifi in c:\\users\\uriel\\anaconda3\\lib\\site-packages (from fiona>=1.8->geopandas->eeconvert) (2022.9.14)\n",
      "Requirement already satisfied: setuptools in c:\\users\\uriel\\anaconda3\\lib\\site-packages (from fiona>=1.8->geopandas->eeconvert) (63.4.1)\n",
      "Requirement already satisfied: cligj>=0.5 in c:\\users\\uriel\\anaconda3\\lib\\site-packages (from fiona>=1.8->geopandas->eeconvert) (0.7.2)\n",
      "Requirement already satisfied: munch in c:\\users\\uriel\\anaconda3\\lib\\site-packages (from fiona>=1.8->geopandas->eeconvert) (2.5.0)\n",
      "Requirement already satisfied: google-api-core!=2.0.*,!=2.1.*,!=2.2.*,!=2.3.0,<3.0.0dev,>=1.31.5 in c:\\users\\uriel\\anaconda3\\lib\\site-packages (from google-api-python-client>=1.12.1->earthengine-api->eeconvert) (2.11.0)\n",
      "Requirement already satisfied: uritemplate<5,>=3.0.1 in c:\\users\\uriel\\anaconda3\\lib\\site-packages (from google-api-python-client>=1.12.1->earthengine-api->eeconvert) (4.1.1)\n",
      "Requirement already satisfied: rsa<5,>=3.1.4 in c:\\users\\uriel\\anaconda3\\lib\\site-packages (from google-auth>=1.4.1->earthengine-api->eeconvert) (4.9)\n",
      "Requirement already satisfied: cachetools<6.0,>=2.0.0 in c:\\users\\uriel\\anaconda3\\lib\\site-packages (from google-auth>=1.4.1->earthengine-api->eeconvert) (5.3.0)\n",
      "Requirement already satisfied: pyasn1-modules>=0.2.1 in c:\\users\\uriel\\anaconda3\\lib\\site-packages (from google-auth>=1.4.1->earthengine-api->eeconvert) (0.2.8)\n",
      "Requirement already satisfied: pyparsing!=3.0.0,!=3.0.1,!=3.0.2,!=3.0.3,<4,>=2.4.2 in c:\\users\\uriel\\anaconda3\\lib\\site-packages (from httplib2<1dev,>=0.9.2->earthengine-api->eeconvert) (3.0.9)\n",
      "Requirement already satisfied: MarkupSafe>=0.23 in c:\\users\\uriel\\anaconda3\\lib\\site-packages (from jinja2->branca->eeconvert) (2.0.1)\n",
      "Requirement already satisfied: google-resumable-media>=2.3.2 in c:\\users\\uriel\\anaconda3\\lib\\site-packages (from google-cloud-storage->earthengine-api->eeconvert) (2.4.1)\n",
      "Requirement already satisfied: google-cloud-core<3.0dev,>=2.3.0 in c:\\users\\uriel\\anaconda3\\lib\\site-packages (from google-cloud-storage->earthengine-api->eeconvert) (2.3.2)\n",
      "Requirement already satisfied: idna<4,>=2.5 in c:\\users\\uriel\\anaconda3\\lib\\site-packages (from requests->earthengine-api->eeconvert) (3.3)\n",
      "Requirement already satisfied: charset-normalizer<3,>=2 in c:\\users\\uriel\\anaconda3\\lib\\site-packages (from requests->earthengine-api->eeconvert) (2.0.4)\n",
      "Requirement already satisfied: colorama in c:\\users\\uriel\\anaconda3\\lib\\site-packages (from click>=4.0->fiona>=1.8->geopandas->eeconvert) (0.4.5)\n",
      "Requirement already satisfied: protobuf!=3.20.0,!=3.20.1,!=4.21.0,!=4.21.1,!=4.21.2,!=4.21.3,!=4.21.4,!=4.21.5,<5.0.0dev,>=3.19.5 in c:\\users\\uriel\\anaconda3\\lib\\site-packages (from google-api-core!=2.0.*,!=2.1.*,!=2.2.*,!=2.3.0,<3.0.0dev,>=1.31.5->google-api-python-client>=1.12.1->earthengine-api->eeconvert) (4.21.12)\n",
      "Requirement already satisfied: googleapis-common-protos<2.0dev,>=1.56.2 in c:\\users\\uriel\\anaconda3\\lib\\site-packages (from google-api-core!=2.0.*,!=2.1.*,!=2.2.*,!=2.3.0,<3.0.0dev,>=1.31.5->google-api-python-client>=1.12.1->earthengine-api->eeconvert) (1.58.0)\n",
      "Requirement already satisfied: google-crc32c<2.0dev,>=1.0 in c:\\users\\uriel\\anaconda3\\lib\\site-packages (from google-resumable-media>=2.3.2->google-cloud-storage->earthengine-api->eeconvert) (1.5.0)\n",
      "Requirement already satisfied: pyasn1<0.5.0,>=0.4.6 in c:\\users\\uriel\\anaconda3\\lib\\site-packages (from pyasn1-modules>=0.2.1->google-auth>=1.4.1->earthengine-api->eeconvert) (0.4.8)\n"
     ]
    }
   ],
   "source": [
    "pip install eeconvert"
   ]
  },
  {
   "cell_type": "code",
   "execution_count": 1,
   "id": "20a5a842",
   "metadata": {},
   "outputs": [],
   "source": [
    "import geopandas as gpd \n",
    "import descartes\n",
    "import matplotlib.pyplot as plt\n",
    "import csv\n",
    "import nasa_wildfires as fires\n",
    "import json\n",
    "import eeconvert"
   ]
  },
  {
   "cell_type": "code",
   "execution_count": 2,
   "id": "423028e4",
   "metadata": {},
   "outputs": [
    {
     "name": "stdout",
     "output_type": "stream",
     "text": [
      "[] []\n"
     ]
    }
   ],
   "source": [
    "# Download a regional GeoJSON of hotspots detected by the MODIS satellite in a recent 7-day period.\n",
    "data = fires.get_modis(region=\"central-america\", time_range=\"7d\")  \n",
    "\n",
    "lat = []\n",
    "lon = []\n",
    "#Detectar los incendios en el rango de 7 días dentro del rango de la primaveras\n",
    "for i in range(len(data[\"features\"])):\n",
    "    if data[\"features\"][i][\"geometry\"][\"coordinates\"][0] >= -103.6858 and data[\"features\"][i][\"geometry\"][\"coordinates\"][0] <= -103.4552 and data[\"features\"][i][\"geometry\"][\"coordinates\"][1] <= 20.7269 and data[\"features\"][i][\"geometry\"][\"coordinates\"][1] >= 20.5430:\n",
    "        lon.append(data[\"features\"][i][\"geometry\"][\"coordinates\"][0])\n",
    "        lat.append(data[\"features\"][i][\"geometry\"][\"coordinates\"][1])\n",
    "print(lat,lon)\n"
   ]
  },
  {
   "cell_type": "code",
   "execution_count": 3,
   "id": "09730660",
   "metadata": {},
   "outputs": [
    {
     "data": {
      "image/png": "[encoded data removed]",
      "text/plain": [
       "<Figure size 1000x800 with 1 Axes>"
      ]
     },
     "metadata": {},
     "output_type": "display_data"
    }
   ],
   "source": [
    "gdf = gpd.read_file(r'C:\\Users\\uriel\\Desktop\\Incendios\\Primavera.shp')\n",
    "fig, axes = plt.subplots(figsize=(10,8))\n",
    "gdf.plot(ax = axes, color = \"white\", edgecolor = \"black\")\n",
    "axes.scatter(lon, lat)\n",
    "plt.show()"
   ]
  },
  {
   "cell_type": "code",
   "execution_count": 5,
   "id": "d6c5361a",
   "metadata": {},
   "outputs": [],
   "source": [
    "#pip install earthengine-api --upgrade"
   ]
  },
  {
   "cell_type": "code",
   "execution_count": null,
   "id": "5ca95b8a",
   "metadata": {},
   "outputs": [
    {
     "data": {
      "text/html": [
       "<p>To authorize access needed by Earth Engine, open the following\n",
       "        URL in a web browser and follow the instructions:</p>\n",
       "        <p><a href=https://code.earthengine.google.com/client-auth?scopes=https%3A//www.googleapis.com/auth/earthengine%20https%3A//www.googleapis.com/auth/devstorage.full_control&request_id=5OhTC7aRexybzWMy5UzOIm_XhWUbWO34sXLCcj1ug4s&tc=Zy2DxXxx3UaOYQU0WCt3lWeIgmPRMf74SrfgnyZhz1g&cc=Ovb7kh8bz_M4AvPDgOez_SfjESgShxmtTlOOHlks_nA>https://code.earthengine.google.com/client-auth?scopes=https%3A//www.googleapis.com/auth/earthengine%20https%3A//www.googleapis.com/auth/devstorage.full_control&request_id=5OhTC7aRexybzWMy5UzOIm_XhWUbWO34sXLCcj1ug4s&tc=Zy2DxXxx3UaOYQU0WCt3lWeIgmPRMf74SrfgnyZhz1g&cc=Ovb7kh8bz_M4AvPDgOez_SfjESgShxmtTlOOHlks_nA</a></p>\n",
       "        <p>The authorization workflow will generate a code, which you should paste in the box below.</p>\n",
       "        "
      ],
      "text/plain": [
       "<IPython.core.display.HTML object>"
      ]
     },
     "metadata": {},
     "output_type": "display_data"
    }
   ],
   "source": [
    "import ee\n",
    "ee.Authenticate()"
   ]
  },
  {
   "cell_type": "code",
   "execution_count": 9,
   "id": "0cf50f6d",
   "metadata": {},
   "outputs": [],
   "source": [
    "ee.Initialize()"
   ]
  },
  {
   "cell_type": "code",
   "execution_count": 10,
   "id": "150cbecb",
   "metadata": {},
   "outputs": [
    {
     "name": "stdout",
     "output_type": "stream",
     "text": [
      "NASADEM: NASA NASADEM Digital Elevation 30m\n"
     ]
    }
   ],
   "source": [
    "print(ee.Image(\"NASA/NASADEM_HGT/001\").get(\"title\").getInfo())"
   ]
  },
  {
   "cell_type": "code",
   "execution_count": 11,
   "id": "ed9cdcfe",
   "metadata": {},
   "outputs": [],
   "source": [
    "pa = ee.FeatureCollection(\"WCMC/WDPA/current/polygons\")"
   ]
  },
  {
   "cell_type": "code",
   "execution_count": 12,
   "id": "c9ac07db",
   "metadata": {},
   "outputs": [
    {
     "name": "stdout",
     "output_type": "stream",
     "text": [
      "ee.FeatureCollection({\n",
      "  \"functionInvocationValue\": {\n",
      "    \"functionName\": \"Collection.loadTable\",\n",
      "    \"arguments\": {\n",
      "      \"tableId\": {\n",
      "        \"constantValue\": \"WCMC/WDPA/current/polygons\"\n",
      "      }\n",
      "    }\n",
      "  }\n",
      "})\n"
     ]
    }
   ],
   "source": [
    "print(pa)"
   ]
  },
  {
   "cell_type": "code",
   "execution_count": 13,
   "id": "6e62d24a",
   "metadata": {
    "scrolled": true
   },
   "outputs": [
    {
     "name": "stderr",
     "output_type": "stream",
     "text": [
      "C:\\Users\\uriel\\anaconda3\\lib\\site-packages\\pyproj\\crs\\crs.py:141: FutureWarning: '+init=<authority>:<code>' syntax is deprecated. '<authority>:<code>' is the preferred initialization method. When making the change, be mindful of axis order changes: https://pyproj4.github.io/pyproj/stable/gotchas.html#axis-order-changes-in-proj-6\n",
      "  in_crs_string = _prepare_from_proj_string(in_crs_string)\n"
     ]
    }
   ],
   "source": [
    "# lA Primavera polygon\n",
    "import eeconvert\n",
    "filter = ee.Filter.inList('NAME', ['La Primavera'])\n",
    "primavera = pa.filter(filter)\n",
    "# transform La Primavera fc into gdf\n",
    "primaveraGDF = eeconvert.fcToGdf(primavera)\n",
    "# convert gdf into shp\n",
    "primaveraGDF.to_file(r\"C:\\Users\\uriel\\Desktop\\Incendios\\LaPrimavera.shp\")"
   ]
  },
  {
   "cell_type": "code",
   "execution_count": 14,
   "id": "5b809435",
   "metadata": {},
   "outputs": [
    {
     "name": "stderr",
     "output_type": "stream",
     "text": [
      "C:\\Users\\uriel\\anaconda3\\lib\\site-packages\\pyproj\\crs\\crs.py:141: FutureWarning: '+init=<authority>:<code>' syntax is deprecated. '<authority>:<code>' is the preferred initialization method. When making the change, be mindful of axis order changes: https://pyproj4.github.io/pyproj/stable/gotchas.html#axis-order-changes-in-proj-6\n",
      "  in_crs_string = _prepare_from_proj_string(in_crs_string)\n"
     ]
    }
   ],
   "source": [
    "# load GRIDMET ImageCollection FOR FUEL MOISTURE\n",
    "gridmet = ee.ImageCollection('IDAHO_EPSCOR/GRIDMET').filter(ee.Filter.date('2020-06-20', '2020-09-22'));\n",
    "# create a rectangle\n",
    "coords = [-103.6858,20.5430,-103.4552,20.7269]\n",
    "bbox = ee.Geometry.Rectangle(coords)\n",
    "# select 100-hour dead fuel moisture (fm100) and calculate the mode\n",
    "fm100 = gridmet.select('fm100').mode()\n",
    "# clip data to rectangle\n",
    "fm100_clip =fm100.clip(bbox)\n",
    "# create 2000 random points\n",
    "fm100_points = ee.FeatureCollection.randomPoints(bbox, 2000);\n",
    "# sample points using the mean\n",
    "samplefm100 = fm100_clip.reduceRegions(**{\n",
    "  'collection':fm100_points,\n",
    "  'reducer':ee.Reducer.mean(), \n",
    "  'scale': 4000, \n",
    "  });\n",
    "# transform fc into gdf\n",
    "samplefm100GDF = eeconvert.fcToGdf(samplefm100)\n",
    "# convert gdf into shp\n",
    "samplefm100GDF.to_file(r\"C:\\Users\\uriel\\Desktop\\Incendios\\samplefm100.shp\")"
   ]
  },
  {
   "cell_type": "code",
   "execution_count": 15,
   "id": "d81d0f8a",
   "metadata": {},
   "outputs": [
    {
     "name": "stderr",
     "output_type": "stream",
     "text": [
      "C:\\Users\\uriel\\anaconda3\\lib\\site-packages\\pyproj\\crs\\crs.py:141: FutureWarning: '+init=<authority>:<code>' syntax is deprecated. '<authority>:<code>' is the preferred initialization method. When making the change, be mindful of axis order changes: https://pyproj4.github.io/pyproj/stable/gotchas.html#axis-order-changes-in-proj-6\n",
      "  in_crs_string = _prepare_from_proj_string(in_crs_string)\n"
     ]
    }
   ],
   "source": [
    "# select Wind velocity at 10m and calculate the mode\n",
    "vs = gridmet.select('vs').mode()\n",
    "# clip data to rectangle\n",
    "vs_clip = vs.clip(bbox)\n",
    "# create 2000 random points\n",
    "vs_points = ee.FeatureCollection.randomPoints(bbox, 2000);\n",
    "# sample points using the mean\n",
    "samplevs100 = vs_clip.reduceRegions(**{\n",
    "  'collection':vs_points,\n",
    "  'reducer':ee.Reducer.mean(), \n",
    "  'scale': 4000, \n",
    "  });\n",
    "# transform fc into gdf\n",
    "samplevsGDF = eeconvert.fcToGdf(samplevs100)\n",
    "# convert gdf into shp\n",
    "samplevsGDF.to_file(r\"C:\\Users\\uriel\\Desktop\\Incendios\\samplevs.shp\")"
   ]
  },
  {
   "cell_type": "code",
   "execution_count": 16,
   "id": "43ad8acc",
   "metadata": {},
   "outputs": [
    {
     "name": "stderr",
     "output_type": "stream",
     "text": [
      "C:\\Users\\uriel\\anaconda3\\lib\\site-packages\\pyproj\\crs\\crs.py:141: FutureWarning: '+init=<authority>:<code>' syntax is deprecated. '<authority>:<code>' is the preferred initialization method. When making the change, be mindful of axis order changes: https://pyproj4.github.io/pyproj/stable/gotchas.html#axis-order-changes-in-proj-6\n",
      "  in_crs_string = _prepare_from_proj_string(in_crs_string)\n"
     ]
    }
   ],
   "source": [
    "# select Wind direction and calculate the mode\n",
    "wd = gridmet.select('th').mode()\n",
    "# clip data to rectangle\n",
    "wd_clip = wd.clip(bbox)\n",
    "# create 2000 random points\n",
    "wd_points = ee.FeatureCollection.randomPoints(bbox, 2000);\n",
    "# sample points using the mean\n",
    "samplewd = wd_clip.reduceRegions(**{\n",
    "  'collection':wd_points,\n",
    "  'reducer':ee.Reducer.mean(), \n",
    "  'scale': 4000, \n",
    "  });\n",
    "# transform fc into gdf\n",
    "samplewdGDF = eeconvert.fcToGdf(samplewd)\n",
    "# convert gdf into shp\n",
    "samplewdGDF.to_file(r\"C:\\Users\\uriel\\Desktop\\Modular\\samplewd.shp\")"
   ]
  },
  {
   "cell_type": "code",
   "execution_count": 17,
   "id": "44a2834c",
   "metadata": {},
   "outputs": [],
   "source": [
    "\n",
    "# Definition of a region of interest with a rectangle\n",
    "l_left = [-103.6858, 20.5430] # lower left corner of the rectangle\n",
    "t_right = [-103.4552, 20.7269] # toper right corner of the rectangle\n",
    " \n",
    "roi = ee.Geometry.Rectangle([l_left, t_right]) # region of interest"
   ]
  },
  {
   "cell_type": "code",
   "execution_count": 18,
   "id": "8a56eb85",
   "metadata": {},
   "outputs": [],
   "source": [
    "# import a land cover Collection\n",
    "LC = ee.ImageCollection('MODIS/006/MCD12Q1')\n",
    " \n",
    "# import a land surface temperature Collection\n",
    "LST = ee.ImageCollection('MODIS/006/MOD11A1')\n",
    "# import a ground elevation Image\n",
    "ELV = ee.Image('USGS/SRTMGL1_003')"
   ]
  },
  {
   "cell_type": "code",
   "execution_count": 19,
   "id": "69a7cd93",
   "metadata": {},
   "outputs": [],
   "source": [
    "# ImageCollection to Image using the mean() method:\n",
    "LST_im = LST.mean()\n",
    " \n",
    "# Operation to take into account the scale factor:\n",
    "LST_im = LST_im.select('LST_Day_1km').multiply(0.02)\n",
    " \n",
    "# Kelvin -&amp;amp;amp;amp;amp;amp;gt; Celsius\n",
    "LST_im = LST_im.select('LST_Day_1km').add(-273.15)"
   ]
  },
  {
   "cell_type": "code",
   "execution_count": 20,
   "id": "d8bd5a42",
   "metadata": {},
   "outputs": [
    {
     "name": "stdout",
     "output_type": "stream",
     "text": [
      "https://earthengine.googleapis.com/v1alpha/projects/earthengine-legacy/thumbnails/b3719d614ee84f0420101a3317b64fe3-298e44396ef664f625a16ea9de653da2:getPixels\n"
     ]
    },
    {
     "data": {
      "text/html": [
       "<img src=\"https://earthengine.googleapis.com/v1alpha/projects/earthengine-legacy/thumbnails/b3719d614ee84f0420101a3317b64fe3-298e44396ef664f625a16ea9de653da2:getPixels\"/>"
      ],
      "text/plain": [
       "<IPython.core.display.Image object>"
      ]
     },
     "execution_count": 20,
     "metadata": {},
     "output_type": "execute_result"
    }
   ],
   "source": [
    "from IPython.display import Image\n",
    " \n",
    "# Create the url associated to the Image you want\n",
    "url = LST_im.getThumbUrl({'min': 10, 'max': 30, 'dimensions': 512,\n",
    "                          'region' : roi,\n",
    "                          'palette': ['blue', 'yellow', 'orange', 'red']})\n",
    "print(url)\n",
    " \n",
    "# Display a thumbnail Land Surface Temperature in France\n",
    "Image(url = url)"
   ]
  },
  {
   "cell_type": "code",
   "execution_count": 21,
   "id": "3afd3b65",
   "metadata": {},
   "outputs": [
    {
     "data": {
      "text/html": [
       "<img src=\"https://earthengine.googleapis.com/v1alpha/projects/earthengine-legacy/thumbnails/cead5b32119faef7c2d5bdddc8e41fff-32ca105f0f2178d1c94e9963919e5d39:getPixels\"/>"
      ],
      "text/plain": [
       "<IPython.core.display.Image object>"
      ]
     },
     "execution_count": 21,
     "metadata": {},
     "output_type": "execute_result"
    }
   ],
   "source": [
    "# We create a filter and apply a mask to get hide oceans and seas\n",
    "url2 = ELV.updateMask(ELV.gt(0)).getThumbUrl({'min': 0, 'max': 2500, 'region' : roi,\n",
    "                                              'dimensions': 512,\n",
    "                                              'palette': ['006633', 'E5FFCC', '662A00', 'D8D8D8', 'F5F5F5']})\n",
    "Image(url = url2)"
   ]
  },
  {
   "cell_type": "code",
   "execution_count": 22,
   "id": "1249ffb4",
   "metadata": {},
   "outputs": [
    {
     "data": {
      "text/html": [
       "<img src=\"https://earthengine.googleapis.com/v1alpha/projects/earthengine-legacy/thumbnails/fa847326617b448bfb9c1850f23170fa-a5db66166ed384b2639a4a52577aa1a1:getPixels\"/>"
      ],
      "text/plain": [
       "<IPython.core.display.Image object>"
      ]
     },
     "execution_count": 22,
     "metadata": {},
     "output_type": "execute_result"
    }
   ],
   "source": [
    "# We clip the image on France\n",
    "ELV_fr = ELV.updateMask(ELV.gt(0)).clip(primavera)\n",
    " \n",
    "# Create the url associated to the Image you want\n",
    "url4 = ELV_fr.getThumbUrl({'min': 0, 'max': 2500, 'region' : roi,\n",
    "                                              'dimensions': 512,\n",
    "                                              'palette': ['006633', 'E5FFCC', '662A00', 'D8D8D8', 'F5F5F5']})\n",
    "# Display a thumbnail of elevation in France.\n",
    "Image(url = url4)"
   ]
  },
  {
   "cell_type": "code",
   "execution_count": 23,
   "id": "88e4b1e4",
   "metadata": {
    "scrolled": false
   },
   "outputs": [
    {
     "data": {
      "text/html": [
       "<div style=\"width:100%;\"><div style=\"position:relative;width:100%;height:0;padding-bottom:60%;\"><span style=\"color:#565656\">Make this Notebook Trusted to load map: File -> Trust Notebook</span><iframe srcdoc=\"&lt;!DOCTYPE html&gt;\n",
       "&lt;html&gt;\n",
       "&lt;head&gt;\n",
       "    \n",
       "    &lt;meta http-equiv=&quot;content-type&quot; content=&quot;text/html; charset=UTF-8&quot; /&gt;\n",
       "    \n",
       "        &lt;script&gt;\n",
       "            L_NO_TOUCH = false;\n",
       "            L_DISABLE_3D = false;\n",
       "        &lt;/script&gt;\n",
       "    \n",
       "    &lt;style&gt;html, body {width: 100%;height: 100%;margin: 0;padding: 0;}&lt;/style&gt;\n",
       "    &lt;style&gt;#map {position:absolute;top:0;bottom:0;right:0;left:0;}&lt;/style&gt;\n",
       "    &lt;script src=&quot;https://cdn.jsdelivr.net/npm/leaflet@1.9.3/dist/leaflet.js&quot;&gt;&lt;/script&gt;\n",
       "    &lt;script src=&quot;https://code.jquery.com/jquery-1.12.4.min.js&quot;&gt;&lt;/script&gt;\n",
       "    &lt;script src=&quot;https://cdn.jsdelivr.net/npm/bootstrap@5.2.2/dist/js/bootstrap.bundle.min.js&quot;&gt;&lt;/script&gt;\n",
       "    &lt;script src=&quot;https://cdnjs.cloudflare.com/ajax/libs/Leaflet.awesome-markers/2.0.2/leaflet.awesome-markers.js&quot;&gt;&lt;/script&gt;\n",
       "    &lt;link rel=&quot;stylesheet&quot; href=&quot;https://cdn.jsdelivr.net/npm/leaflet@1.9.3/dist/leaflet.css&quot;/&gt;\n",
       "    &lt;link rel=&quot;stylesheet&quot; href=&quot;https://cdn.jsdelivr.net/npm/bootstrap@5.2.2/dist/css/bootstrap.min.css&quot;/&gt;\n",
       "    &lt;link rel=&quot;stylesheet&quot; href=&quot;https://netdna.bootstrapcdn.com/bootstrap/3.0.0/css/bootstrap.min.css&quot;/&gt;\n",
       "    &lt;link rel=&quot;stylesheet&quot; href=&quot;https://cdn.jsdelivr.net/npm/@fortawesome/fontawesome-free@6.2.0/css/all.min.css&quot;/&gt;\n",
       "    &lt;link rel=&quot;stylesheet&quot; href=&quot;https://cdnjs.cloudflare.com/ajax/libs/Leaflet.awesome-markers/2.0.2/leaflet.awesome-markers.css&quot;/&gt;\n",
       "    &lt;link rel=&quot;stylesheet&quot; href=&quot;https://cdn.jsdelivr.net/gh/python-visualization/folium/folium/templates/leaflet.awesome.rotate.min.css&quot;/&gt;\n",
       "    \n",
       "            &lt;meta name=&quot;viewport&quot; content=&quot;width=device-width,\n",
       "                initial-scale=1.0, maximum-scale=1.0, user-scalable=no&quot; /&gt;\n",
       "            &lt;style&gt;\n",
       "                #map_7b3163fd3f2b626a9b8563422bf3a014 {\n",
       "                    position: relative;\n",
       "                    width: 500.0px;\n",
       "                    height: 300.0px;\n",
       "                    left: 0.0%;\n",
       "                    top: 0.0%;\n",
       "                }\n",
       "                .leaflet-container { font-size: 1rem; }\n",
       "            &lt;/style&gt;\n",
       "        \n",
       "&lt;/head&gt;\n",
       "&lt;body&gt;\n",
       "    \n",
       "    \n",
       "            &lt;div class=&quot;folium-map&quot; id=&quot;map_7b3163fd3f2b626a9b8563422bf3a014&quot; &gt;&lt;/div&gt;\n",
       "        \n",
       "&lt;/body&gt;\n",
       "&lt;script&gt;\n",
       "    \n",
       "    \n",
       "            var map_7b3163fd3f2b626a9b8563422bf3a014 = L.map(\n",
       "                &quot;map_7b3163fd3f2b626a9b8563422bf3a014&quot;,\n",
       "                {\n",
       "                    center: [20.64109, -103.5594],\n",
       "                    crs: L.CRS.EPSG3857,\n",
       "                    zoom: 11,\n",
       "                    zoomControl: true,\n",
       "                    preferCanvas: false,\n",
       "                }\n",
       "            );\n",
       "\n",
       "            \n",
       "\n",
       "        \n",
       "    \n",
       "            var tile_layer_9bd5c0482d417af35213472bf6611e66 = L.tileLayer(\n",
       "                &quot;https://{s}.tile.openstreetmap.org/{z}/{x}/{y}.png&quot;,\n",
       "                {&quot;attribution&quot;: &quot;Data by \\u0026copy; \\u003ca target=\\&quot;_blank\\&quot; href=\\&quot;http://openstreetmap.org\\&quot;\\u003eOpenStreetMap\\u003c/a\\u003e, under \\u003ca target=\\&quot;_blank\\&quot; href=\\&quot;http://www.openstreetmap.org/copyright\\&quot;\\u003eODbL\\u003c/a\\u003e.&quot;, &quot;detectRetina&quot;: false, &quot;maxNativeZoom&quot;: 18, &quot;maxZoom&quot;: 18, &quot;minZoom&quot;: 0, &quot;noWrap&quot;: false, &quot;opacity&quot;: 1, &quot;subdomains&quot;: &quot;abc&quot;, &quot;tms&quot;: false}\n",
       "            ).addTo(map_7b3163fd3f2b626a9b8563422bf3a014);\n",
       "        \n",
       "    \n",
       "            var layer_control_6b3e90166256ffd84e899eef299cab7c = {\n",
       "                base_layers : {\n",
       "                    &quot;openstreetmap&quot; : tile_layer_9bd5c0482d417af35213472bf6611e66,\n",
       "                },\n",
       "                overlays :  {\n",
       "                },\n",
       "            };\n",
       "            L.control.layers(\n",
       "                layer_control_6b3e90166256ffd84e899eef299cab7c.base_layers,\n",
       "                layer_control_6b3e90166256ffd84e899eef299cab7c.overlays,\n",
       "                {&quot;autoZIndex&quot;: true, &quot;collapsed&quot;: true, &quot;position&quot;: &quot;topright&quot;}\n",
       "            ).addTo(map_7b3163fd3f2b626a9b8563422bf3a014);\n",
       "        \n",
       "&lt;/script&gt;\n",
       "&lt;/html&gt;\" style=\"position:absolute;width:100%;height:100%;left:0;top:0;border:none !important;\" allowfullscreen webkitallowfullscreen mozallowfullscreen></iframe></div></div>"
      ],
      "text/plain": [
       "<folium.folium.Map at 0x21701c60fd0>"
      ]
     },
     "execution_count": 23,
     "metadata": {},
     "output_type": "execute_result"
    }
   ],
   "source": [
    "import folium\n",
    "from folium import plugins\n",
    "import ipywidgets\n",
    "import geocoder\n",
    "import geopy\n",
    "from vega_datasets import data as vds\n",
    "dataset = ee.Image('USGS/SRTMGL1_003');\n",
    "elevation = dataset.select('elevation');\n",
    "slope = ee.Terrain.slope(elevation);\n",
    "#folium.Map()\n",
    "Map = folium.Map(location=[20.64109,-103.5594],zoom_start=11,width=500,height = 300)\n",
    "folium.raster_layers.Layer(slope, {min: 0, max: 60}, 'slope')\n",
    "folium.LayerControl().add_to(Map)\n",
    "#Map.addLayer(slope, {min: 0, max: 60}, 'slope');\n",
    "Map"
   ]
  },
  {
   "cell_type": "code",
   "execution_count": null,
   "id": "b34a5bcf",
   "metadata": {},
   "outputs": [],
   "source": []
  },
  {
   "cell_type": "code",
   "execution_count": null,
   "id": "eacb7c25",
   "metadata": {},
   "outputs": [],
   "source": []
  }
 ],
 "metadata": {
  "kernelspec": {
   "display_name": "Python 3 (ipykernel)",
   "language": "python",
   "name": "python3"
  },
  "language_info": {
   "codemirror_mode": {
    "name": "ipython",
    "version": 3
   },
   "file_extension": ".py",
   "mimetype": "text/x-python",
   "name": "python",
   "nbconvert_exporter": "python",
   "pygments_lexer": "ipython3",
   "version": "3.9.13"
  }
 },
 "nbformat": 4,
 "nbformat_minor": 5
}
