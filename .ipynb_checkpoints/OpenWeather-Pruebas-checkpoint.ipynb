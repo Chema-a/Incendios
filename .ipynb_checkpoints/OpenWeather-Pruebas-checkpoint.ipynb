{
 "cells": [
  {
   "cell_type": "code",
   "execution_count": 1,
   "id": "20a5a842",
   "metadata": {},
   "outputs": [],
   "source": [
    "import requests"
   ]
  },
  {
   "cell_type": "code",
   "execution_count": 2,
   "id": "3a65d6ef",
   "metadata": {},
   "outputs": [],
   "source": [
    "def kelvin_to_celsius(kelvin):\n",
    "    celsius = kelvin - 273.15\n",
    "    return celsius"
   ]
  },
  {
   "cell_type": "code",
   "execution_count": 3,
   "id": "db5af9a9",
   "metadata": {},
   "outputs": [
    {
     "name": "stdout",
     "output_type": "stream",
     "text": [
      "Temperatura:  23.610000000000014 °C\n",
      "Humedad:  26 %\n",
      "Velocidad del viento: 1.26 m/s\n",
      "Direccion del viento: 43 °\n"
     ]
    }
   ],
   "source": [
    "res= requests.get(\"https://api.openweathermap.org/data/2.5/weather?lat=20.64109&lon=-103.55948&appid=88ea1e1a48e480178b9c4ab177c2475f\")\n",
    "data = res.json()\n",
    "temp = data[\"main\"][\"temp\"]\n",
    "humidity = data[\"main\"][\"humidity\"]\n",
    "velocidad = data[\"wind\"][\"speed\"]\n",
    "direccion = data[\"wind\"][\"deg\"]\n",
    "\n",
    "print(\"Temperatura: \", kelvin_to_celsius(temp),\"°C\")\n",
    "print(\"Humedad: \",humidity,\"%\")\n",
    "print(\"Velocidad del viento:\",velocidad,\"m/s\")\n",
    "print(\"Direccion del viento:\",direccion,\"°\")"
   ]
  },
  {
   "cell_type": "code",
   "execution_count": null,
   "id": "423028e4",
   "metadata": {},
   "outputs": [],
   "source": [
    "\n"
   ]
  },
  {
   "cell_type": "code",
   "execution_count": null,
   "id": "09730660",
   "metadata": {},
   "outputs": [],
   "source": []
  },
  {
   "cell_type": "code",
   "execution_count": null,
   "id": "d6c5361a",
   "metadata": {},
   "outputs": [],
   "source": []
  },
  {
   "cell_type": "code",
   "execution_count": null,
   "id": "243a3368",
   "metadata": {},
   "outputs": [],
   "source": []
  },
  {
   "cell_type": "code",
   "execution_count": null,
   "id": "71f682a3",
   "metadata": {},
   "outputs": [],
   "source": []
  },
  {
   "cell_type": "code",
   "execution_count": null,
   "id": "eb596464",
   "metadata": {},
   "outputs": [],
   "source": []
  },
  {
   "cell_type": "code",
   "execution_count": null,
   "id": "2c9cd568",
   "metadata": {},
   "outputs": [],
   "source": []
  }
 ],
 "metadata": {
  "kernelspec": {
   "display_name": "Python 3 (ipykernel)",
   "language": "python",
   "name": "python3"
  },
  "language_info": {
   "codemirror_mode": {
    "name": "ipython",
    "version": 3
   },
   "file_extension": ".py",
   "mimetype": "text/x-python",
   "name": "python",
   "nbconvert_exporter": "python",
   "pygments_lexer": "ipython3",
   "version": "3.9.13"
  }
 },
 "nbformat": 4,
 "nbformat_minor": 5
}
