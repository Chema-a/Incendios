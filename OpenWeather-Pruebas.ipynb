{
 "cells": [
  {
   "cell_type": "code",
   "execution_count": 1,
   "id": "20a5a842",
   "metadata": {},
   "outputs": [],
   "source": [
    "import requests"
   ]
  },
  {
   "cell_type": "code",
   "execution_count": 2,
   "id": "3a65d6ef",
   "metadata": {},
   "outputs": [],
   "source": [
    "def kelvin_to_celsius(kelvin):\n",
    "    celsius = kelvin - 273.15\n",
    "    return celsius"
   ]
  },
  {
   "cell_type": "code",
   "execution_count": 3,
   "id": "db5af9a9",
   "metadata": {},
   "outputs": [
    {
     "name": "stdout",
     "output_type": "stream",
     "text": [
      "Temperatura:  23.610000000000014 °C\n",
      "Humedad:  26 %\n",
      "Velocidad del viento: 1.26 m/s\n",
      "Direccion del viento: 43 °\n"
     ]
    }
   ],
   "source": [
    "res= requests.get(\"https://api.openweathermap.org/data/2.5/weather?lat=20.64109&lon=-103.55948&appid=88ea1e1a48e480178b9c4ab177c2475f\")\n",
    "data = res.json()\n",
    "temp = data[\"main\"][\"temp\"]\n",
    "humidity = data[\"main\"][\"humidity\"]\n",
    "velocidad = data[\"wind\"][\"speed\"]\n",
    "direccion = data[\"wind\"][\"deg\"]\n",
    "\n",
    "print(\"Temperatura: \", kelvin_to_celsius(temp),\"°C\")\n",
    "print(\"Humedad: \",humidity,\"%\")\n",
    "print(\"Velocidad del viento:\",velocidad,\"m/s\")\n",
    "print(\"Direccion del viento:\",direccion,\"°\")"
   ]
  },
  {
   "cell_type": "code",
   "execution_count": 8,
   "id": "423028e4",
   "metadata": {},
   "outputs": [
    {
     "data": {
      "text/html": [
       "<p>To authorize access needed by Earth Engine, open the following\n",
       "        URL in a web browser and follow the instructions:</p>\n",
       "        <p><a href=https://code.earthengine.google.com/client-auth?scopes=https%3A//www.googleapis.com/auth/earthengine%20https%3A//www.googleapis.com/auth/devstorage.full_control&request_id=b-ChOnL2EEnkKwTSwI72uHA67TFMtkt1mIpP53WXPOg&tc=1_G870WnQgOY9R4c4gF5XjcuehigOMsLRlik37A9iZg&cc=jESd8Jjq19UL14qi7qxWHWUlRP8Ux63XCwKOp0dYYd8>https://code.earthengine.google.com/client-auth?scopes=https%3A//www.googleapis.com/auth/earthengine%20https%3A//www.googleapis.com/auth/devstorage.full_control&request_id=b-ChOnL2EEnkKwTSwI72uHA67TFMtkt1mIpP53WXPOg&tc=1_G870WnQgOY9R4c4gF5XjcuehigOMsLRlik37A9iZg&cc=jESd8Jjq19UL14qi7qxWHWUlRP8Ux63XCwKOp0dYYd8</a></p>\n",
       "        <p>The authorization workflow will generate a code, which you should paste in the box below.</p>\n",
       "        "
      ],
      "text/plain": [
       "<IPython.core.display.HTML object>"
      ]
     },
     "metadata": {},
     "output_type": "display_data"
    },
    {
     "name": "stdout",
     "output_type": "stream",
     "text": [
      "Enter verification code: 4/1AWtgzh6Y4Jy9roOgcvMzC1QAXqkKBUnC9fJzCBTv3VkCnMj6djgJu1Ixe7Y\n",
      "\n",
      "Successfully saved authorization token.\n"
     ]
    }
   ],
   "source": [
    "import ee\n",
    "ee.Authenticate()\n",
    "ee.Initialize()\n",
    "import eeconvert\n"
   ]
  },
  {
   "cell_type": "code",
   "execution_count": 10,
   "id": "09730660",
   "metadata": {},
   "outputs": [],
   "source": [
    "# get World Data Protected Areas (WDPA) FeatureCollection\n",
    "#pa = ee.FeatureCollection(\"WCMC/WDPA/current/polygons\")\n",
    "# Yosemite National Park polygon\n",
    "#filter = ee.Filter.inList('NAME', ['Yosemite National Park'])\n",
    "#yosemite = pa.filter(filter)\n",
    "# transform Yosemite fc into gdf\n",
    "#yosGDF = eeconvert.fcToGdf(yosemite)\n",
    "# convert gdf into shp\n",
    "#yosGDF.to_file(\"gisdata/yosemite/shp/yosemite.shp\")"
   ]
  },
  {
   "cell_type": "code",
   "execution_count": 38,
   "id": "d6c5361a",
   "metadata": {},
   "outputs": [
    {
     "ename": "NameError",
     "evalue": "name 'd' is not defined",
     "output_type": "error",
     "traceback": [
      "\u001b[1;31m---------------------------------------------------------------------------\u001b[0m",
      "\u001b[1;31mNameError\u001b[0m                                 Traceback (most recent call last)",
      "\u001b[1;32m~\\AppData\\Local\\Temp\\ipykernel_4960\\2910580375.py\u001b[0m in \u001b[0;36m<module>\u001b[1;34m\u001b[0m\n\u001b[0;32m      1\u001b[0m \u001b[1;31m# display monitor and save image file\u001b[0m\u001b[1;33m\u001b[0m\u001b[1;33m\u001b[0m\u001b[0m\n\u001b[1;32m----> 2\u001b[1;33m \u001b[0md\u001b[0m\u001b[1;33m.\u001b[0m\u001b[0mmon\u001b[0m\u001b[1;33m(\u001b[0m\u001b[0mstart\u001b[0m\u001b[1;33m=\u001b[0m\u001b[1;34m'cairo'\u001b[0m\u001b[1;33m,\u001b[0m \u001b[0moutput\u001b[0m\u001b[1;33m=\u001b[0m\u001b[1;34m'gisdata/yosemite/images/sa_3_frame.png'\u001b[0m\u001b[1;33m,\u001b[0m \u001b[0mwidth\u001b[0m\u001b[1;33m=\u001b[0m\u001b[1;36m800\u001b[0m\u001b[1;33m,\u001b[0m \u001b[0mheight\u001b[0m\u001b[1;33m=\u001b[0m\u001b[1;36m700\u001b[0m\u001b[1;33m)\u001b[0m\u001b[1;33m\u001b[0m\u001b[1;33m\u001b[0m\u001b[0m\n\u001b[0m\u001b[0;32m      3\u001b[0m \u001b[1;31m# remove all frames\u001b[0m\u001b[1;33m\u001b[0m\u001b[1;33m\u001b[0m\u001b[0m\n\u001b[0;32m      4\u001b[0m \u001b[0md\u001b[0m\u001b[1;33m.\u001b[0m\u001b[0mframe\u001b[0m\u001b[1;33m(\u001b[0m\u001b[0mflags\u001b[0m\u001b[1;33m=\u001b[0m\u001b[1;34m'e'\u001b[0m\u001b[1;33m)\u001b[0m\u001b[1;33m\u001b[0m\u001b[1;33m\u001b[0m\u001b[0m\n\u001b[0;32m      5\u001b[0m \u001b[1;31m# frame spread_8h_s3# create upper-left frame\u001b[0m\u001b[1;33m\u001b[0m\u001b[1;33m\u001b[0m\u001b[0m\n",
      "\u001b[1;31mNameError\u001b[0m: name 'd' is not defined"
     ]
    }
   ],
   "source": [
    "# display monitor and save image file\n",
    "d.mon(start='cairo', output='gisdata/yosemite/images/sa_3_frame.png', width=800, height=700)\n",
    "# remove all frames\n",
    "d.frame(flags='e')\n",
    "# frame spread_8h_s3# create upper-left frame\n",
    "d.frame(flags='c', frame='first', at=(50,100,0,50))\n",
    "# add raster map landsat cir\n",
    "d.rast(map='landsat_cir_sa_3')\n",
    "# add raster map spread_8h_s3\n",
    "d.rast(map='spread_8h_s3')\n",
    "# add vector map source_3\n",
    "d.vect(map='source_3', size=25, icon='basic/pin_dot', color='green',legend_label='Source 3')\n",
    "# add title\n",
    "d.text(text='Fire Spread 8h', bgcolor=('255:255:204'),color='black', size=6)\n",
    "# add north arrow\n",
    "script.run_command('d.northarrow', flags='t', style='9',at=(85,85), fill_color=('0:0:0'),color='none')\n",
    "# add raster legend\n",
    "script.run_command('d.legend', flags='sb', raster='spread_32h_s3_reclass',at=(5,60, 81, 83), title='Spread (%)', title_fontsize= 7, bgcolor=('255:255:204'), border_color='none')\n",
    "# add vector legend\n",
    "script.run_command('d.legend.vect', flags='b', at=(7,15), symbol_size=10, fontsize=12,border_color='none', bgcolor=('255:255:204'))\n",
    "# add bar scale\n",
    "script.run_command('d.barscale', bgcolor=('255:255:204'), at=(40,10), style='line',length=2, units='kilometers', width_scale=0.5)"
   ]
  },
  {
   "cell_type": "code",
   "execution_count": null,
   "id": "243a3368",
   "metadata": {},
   "outputs": [],
   "source": []
  },
  {
   "cell_type": "code",
   "execution_count": null,
   "id": "71f682a3",
   "metadata": {},
   "outputs": [],
   "source": []
  },
  {
   "cell_type": "code",
   "execution_count": null,
   "id": "eb596464",
   "metadata": {},
   "outputs": [],
   "source": []
  },
  {
   "cell_type": "code",
   "execution_count": null,
   "id": "2c9cd568",
   "metadata": {},
   "outputs": [],
   "source": []
  }
 ],
 "metadata": {
  "kernelspec": {
   "display_name": "Python 3 (ipykernel)",
   "language": "python",
   "name": "python3"
  },
  "language_info": {
   "codemirror_mode": {
    "name": "ipython",
    "version": 3
   },
   "file_extension": ".py",
   "mimetype": "text/x-python",
   "name": "python",
   "nbconvert_exporter": "python",
   "pygments_lexer": "ipython3",
   "version": "3.9.13"
  }
 },
 "nbformat": 4,
 "nbformat_minor": 5
}
